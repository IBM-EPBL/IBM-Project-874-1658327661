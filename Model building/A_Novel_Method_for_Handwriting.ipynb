{
  "cells": [
    {
      "cell_type": "markdown",
      "id": "40d0af9d",
      "metadata": {
        "id": "40d0af9d"
      },
      "source": [
        "# Importing Libraries"
      ]
    },
    {
      "cell_type": "code",
      "execution_count": 1,
      "id": "8575b0ba",
      "metadata": {
        "id": "8575b0ba"
      },
      "outputs": [],
      "source": [
        "import numpy\n",
        "import tensorflow\n",
        "from tensorflow.keras.datasets import mnist\n",
        "from tensorflow.keras.models import Sequential\n",
        "from tensorflow.keras import layers\n",
        "from tensorflow.keras.layers import Dense, Flatten\n",
        "from keras.layers import Convolution2D as Conv2D\n",
        "from keras.optimizers import Adam\n",
        "from keras.utils import np_utils"
      ]
    },
    {
      "cell_type": "markdown",
      "id": "636f001a",
      "metadata": {
        "id": "636f001a"
      },
      "source": [
        "# Loading Data"
      ]
    },
    {
      "cell_type": "code",
      "execution_count": 2,
      "id": "29f19977",
      "metadata": {
        "colab": {
          "base_uri": "https://localhost:8080/"
        },
        "id": "29f19977",
        "outputId": "1edcc185-c4a6-4325-be69-2d90c859aa81"
      },
      "outputs": [
        {
          "output_type": "stream",
          "name": "stdout",
          "text": [
            "Downloading data from https://storage.googleapis.com/tensorflow/tf-keras-datasets/mnist.npz\n",
            "11490434/11490434 [==============================] - 1s 0us/step\n"
          ]
        }
      ],
      "source": [
        "(X_train,y_train),(X_test,y_test)=mnist.load_data()"
      ]
    },
    {
      "cell_type": "code",
      "execution_count": null,
      "id": "870c190b",
      "metadata": {
        "id": "870c190b",
        "outputId": "f5cadd80-6a24-4eab-d3ad-aa024edaf7a1"
      },
      "outputs": [
        {
          "name": "stdout",
          "output_type": "stream",
          "text": [
            "(60000, 28, 28)\n",
            "(10000, 28, 28)\n"
          ]
        }
      ],
      "source": [
        "print(X_train.shape)\n",
        "print(X_test.shape)"
      ]
    },
    {
      "cell_type": "markdown",
      "id": "4647bb46",
      "metadata": {
        "id": "4647bb46"
      },
      "source": [
        "# Analyzing the data"
      ]
    },
    {
      "cell_type": "code",
      "execution_count": 3,
      "id": "e061c2c2",
      "metadata": {
        "colab": {
          "base_uri": "https://localhost:8080/"
        },
        "id": "e061c2c2",
        "outputId": "1a2b4fd1-0b3a-4239-9743-43eb2215234f"
      },
      "outputs": [
        {
          "output_type": "execute_result",
          "data": {
            "text/plain": [
              "array([[  0,   0,   0,   0,   0,   0,   0,   0,   0,   0,   0,   0,   0,\n",
              "          0,   0,   0,   0,   0,   0,   0,   0,   0,   0,   0,   0,   0,\n",
              "          0,   0],\n",
              "       [  0,   0,   0,   0,   0,   0,   0,   0,   0,   0,   0,   0,   0,\n",
              "          0,   0,   0,   0,   0,   0,   0,   0,   0,   0,   0,   0,   0,\n",
              "          0,   0],\n",
              "       [  0,   0,   0,   0,   0,   0,   0,   0,   0,   0,   0,   0,   0,\n",
              "          0,   0,   0,   0,   0,   0,   0,   0,   0,   0,   0,   0,   0,\n",
              "          0,   0],\n",
              "       [  0,   0,   0,   0,   0,   0,   0,   0,   0,   0,   0,   0,   0,\n",
              "          0,   0,   0,   0,   0,   0,   0,   0,   0,   0,   0,   0,   0,\n",
              "          0,   0],\n",
              "       [  0,   0,   0,   0,   0,   0,   0,   0,   0,   0,   0,   0,   0,\n",
              "          0,   0,   0,   0,   0,   0,   0,   0,   0,   0,   0,   0,   0,\n",
              "          0,   0],\n",
              "       [  0,   0,   0,   0,   0,   0,   0,   0,   0,   0,   0,   0,   3,\n",
              "         18,  18,  18, 126, 136, 175,  26, 166, 255, 247, 127,   0,   0,\n",
              "          0,   0],\n",
              "       [  0,   0,   0,   0,   0,   0,   0,   0,  30,  36,  94, 154, 170,\n",
              "        253, 253, 253, 253, 253, 225, 172, 253, 242, 195,  64,   0,   0,\n",
              "          0,   0],\n",
              "       [  0,   0,   0,   0,   0,   0,   0,  49, 238, 253, 253, 253, 253,\n",
              "        253, 253, 253, 253, 251,  93,  82,  82,  56,  39,   0,   0,   0,\n",
              "          0,   0],\n",
              "       [  0,   0,   0,   0,   0,   0,   0,  18, 219, 253, 253, 253, 253,\n",
              "        253, 198, 182, 247, 241,   0,   0,   0,   0,   0,   0,   0,   0,\n",
              "          0,   0],\n",
              "       [  0,   0,   0,   0,   0,   0,   0,   0,  80, 156, 107, 253, 253,\n",
              "        205,  11,   0,  43, 154,   0,   0,   0,   0,   0,   0,   0,   0,\n",
              "          0,   0],\n",
              "       [  0,   0,   0,   0,   0,   0,   0,   0,   0,  14,   1, 154, 253,\n",
              "         90,   0,   0,   0,   0,   0,   0,   0,   0,   0,   0,   0,   0,\n",
              "          0,   0],\n",
              "       [  0,   0,   0,   0,   0,   0,   0,   0,   0,   0,   0, 139, 253,\n",
              "        190,   2,   0,   0,   0,   0,   0,   0,   0,   0,   0,   0,   0,\n",
              "          0,   0],\n",
              "       [  0,   0,   0,   0,   0,   0,   0,   0,   0,   0,   0,  11, 190,\n",
              "        253,  70,   0,   0,   0,   0,   0,   0,   0,   0,   0,   0,   0,\n",
              "          0,   0],\n",
              "       [  0,   0,   0,   0,   0,   0,   0,   0,   0,   0,   0,   0,  35,\n",
              "        241, 225, 160, 108,   1,   0,   0,   0,   0,   0,   0,   0,   0,\n",
              "          0,   0],\n",
              "       [  0,   0,   0,   0,   0,   0,   0,   0,   0,   0,   0,   0,   0,\n",
              "         81, 240, 253, 253, 119,  25,   0,   0,   0,   0,   0,   0,   0,\n",
              "          0,   0],\n",
              "       [  0,   0,   0,   0,   0,   0,   0,   0,   0,   0,   0,   0,   0,\n",
              "          0,  45, 186, 253, 253, 150,  27,   0,   0,   0,   0,   0,   0,\n",
              "          0,   0],\n",
              "       [  0,   0,   0,   0,   0,   0,   0,   0,   0,   0,   0,   0,   0,\n",
              "          0,   0,  16,  93, 252, 253, 187,   0,   0,   0,   0,   0,   0,\n",
              "          0,   0],\n",
              "       [  0,   0,   0,   0,   0,   0,   0,   0,   0,   0,   0,   0,   0,\n",
              "          0,   0,   0,   0, 249, 253, 249,  64,   0,   0,   0,   0,   0,\n",
              "          0,   0],\n",
              "       [  0,   0,   0,   0,   0,   0,   0,   0,   0,   0,   0,   0,   0,\n",
              "          0,  46, 130, 183, 253, 253, 207,   2,   0,   0,   0,   0,   0,\n",
              "          0,   0],\n",
              "       [  0,   0,   0,   0,   0,   0,   0,   0,   0,   0,   0,   0,  39,\n",
              "        148, 229, 253, 253, 253, 250, 182,   0,   0,   0,   0,   0,   0,\n",
              "          0,   0],\n",
              "       [  0,   0,   0,   0,   0,   0,   0,   0,   0,   0,  24, 114, 221,\n",
              "        253, 253, 253, 253, 201,  78,   0,   0,   0,   0,   0,   0,   0,\n",
              "          0,   0],\n",
              "       [  0,   0,   0,   0,   0,   0,   0,   0,  23,  66, 213, 253, 253,\n",
              "        253, 253, 198,  81,   2,   0,   0,   0,   0,   0,   0,   0,   0,\n",
              "          0,   0],\n",
              "       [  0,   0,   0,   0,   0,   0,  18, 171, 219, 253, 253, 253, 253,\n",
              "        195,  80,   9,   0,   0,   0,   0,   0,   0,   0,   0,   0,   0,\n",
              "          0,   0],\n",
              "       [  0,   0,   0,   0,  55, 172, 226, 253, 253, 253, 253, 244, 133,\n",
              "         11,   0,   0,   0,   0,   0,   0,   0,   0,   0,   0,   0,   0,\n",
              "          0,   0],\n",
              "       [  0,   0,   0,   0, 136, 253, 253, 253, 212, 135, 132,  16,   0,\n",
              "          0,   0,   0,   0,   0,   0,   0,   0,   0,   0,   0,   0,   0,\n",
              "          0,   0],\n",
              "       [  0,   0,   0,   0,   0,   0,   0,   0,   0,   0,   0,   0,   0,\n",
              "          0,   0,   0,   0,   0,   0,   0,   0,   0,   0,   0,   0,   0,\n",
              "          0,   0],\n",
              "       [  0,   0,   0,   0,   0,   0,   0,   0,   0,   0,   0,   0,   0,\n",
              "          0,   0,   0,   0,   0,   0,   0,   0,   0,   0,   0,   0,   0,\n",
              "          0,   0],\n",
              "       [  0,   0,   0,   0,   0,   0,   0,   0,   0,   0,   0,   0,   0,\n",
              "          0,   0,   0,   0,   0,   0,   0,   0,   0,   0,   0,   0,   0,\n",
              "          0,   0]], dtype=uint8)"
            ]
          },
          "metadata": {},
          "execution_count": 3
        }
      ],
      "source": [
        "X_train[0]"
      ]
    },
    {
      "cell_type": "code",
      "execution_count": 4,
      "id": "5134b207",
      "metadata": {
        "colab": {
          "base_uri": "https://localhost:8080/"
        },
        "id": "5134b207",
        "outputId": "77093658-db62-49f1-dab3-1ef6cc1bbd21"
      },
      "outputs": [
        {
          "output_type": "execute_result",
          "data": {
            "text/plain": [
              "5"
            ]
          },
          "metadata": {},
          "execution_count": 4
        }
      ],
      "source": [
        "y_train[0]"
      ]
    },
    {
      "cell_type": "code",
      "execution_count": 5,
      "id": "51683db5",
      "metadata": {
        "colab": {
          "base_uri": "https://localhost:8080/",
          "height": 283
        },
        "id": "51683db5",
        "outputId": "e2d24744-d1eb-4793-e2ac-8cd4bc72d3c8"
      },
      "outputs": [
        {
          "output_type": "execute_result",
          "data": {
            "text/plain": [
              "<matplotlib.image.AxesImage at 0x7f34a90fb3d0>"
            ]
          },
          "metadata": {},
          "execution_count": 5
        },
        {
          "output_type": "display_data",
          "data": {
            "text/plain": [
              "<Figure size 432x288 with 1 Axes>"
            ],
            "image/png": "[encoded data removed]"
          },
          "metadata": {
            "needs_background": "light"
          }
        }
      ],
      "source": [
        "import matplotlib.pyplot as plt\n",
        "plt.imshow(X_train[0])"
      ]
    },
    {
      "cell_type": "markdown",
      "id": "4ebbc933",
      "metadata": {
        "id": "4ebbc933"
      },
      "source": [
        "#Reshaping the data "
      ]
    },
    {
      "cell_type": "code",
      "execution_count": 6,
      "id": "3cfa0954",
      "metadata": {
        "id": "3cfa0954"
      },
      "outputs": [],
      "source": [
        "X_train = X_train.reshape(60000,28,28,1).astype('float32')\n",
        "X_test = X_test.reshape(10000,28,28,1).astype('float32')"
      ]
    },
    {
      "cell_type": "markdown",
      "id": "2ca202bd",
      "metadata": {
        "id": "2ca202bd"
      },
      "source": [
        "# One-hot Encoding"
      ]
    },
    {
      "cell_type": "code",
      "execution_count": 7,
      "id": "0e8f5d9f",
      "metadata": {
        "id": "0e8f5d9f"
      },
      "outputs": [],
      "source": [
        "num_of_classes = 10\n",
        "y_train = np_utils.to_categorical(y_train,num_of_classes)\n",
        "y_test = np_utils.to_categorical(y_test,num_of_classes)"
      ]
    },
    {
      "cell_type": "code",
      "execution_count": 8,
      "id": "b6f6370d",
      "metadata": {
        "colab": {
          "base_uri": "https://localhost:8080/"
        },
        "id": "b6f6370d",
        "outputId": "c9bd04ba-265a-452c-fa5d-163ff90f88da"
      },
      "outputs": [
        {
          "output_type": "execute_result",
          "data": {
            "text/plain": [
              "array([0., 0., 0., 0., 0., 1., 0., 0., 0., 0.], dtype=float32)"
            ]
          },
          "metadata": {},
          "execution_count": 8
        }
      ],
      "source": [
        "y_train[0]"
      ]
    },
    {
      "cell_type": "markdown",
      "id": "93b99273",
      "metadata": {
        "id": "93b99273"
      },
      "source": [
        "# Model Building"
      ]
    },
    {
      "cell_type": "markdown",
      "id": "98f97234",
      "metadata": {
        "id": "98f97234"
      },
      "source": [
        "# Creating Model (Add CNN Layers)"
      ]
    },
    {
      "cell_type": "code",
      "execution_count": 9,
      "id": "e3dcef8b",
      "metadata": {
        "id": "e3dcef8b"
      },
      "outputs": [],
      "source": [
        "model = Sequential()\n",
        "model.add(Conv2D(64,(3,3),input_shape=(28,28,1),activation='relu'))\n",
        "model.add(Conv2D(32,(3,3),activation='relu'))\n",
        "model.add(Flatten())\n",
        "model.add(Dense(num_of_classes,activation='softmax'))"
      ]
    },
    {
      "cell_type": "markdown",
      "id": "f1f7048a",
      "metadata": {
        "id": "f1f7048a"
      },
      "source": [
        "# Compiling the model"
      ]
    },
    {
      "cell_type": "code",
      "execution_count": 10,
      "id": "3adc3692",
      "metadata": {
        "id": "3adc3692"
      },
      "outputs": [],
      "source": [
        "model.compile(loss='categorical_crossentropy',optimizer=\"Adam\",metrics=['accuracy'])"
      ]
    },
    {
      "cell_type": "markdown",
      "id": "b66dffaa",
      "metadata": {
        "id": "b66dffaa"
      },
      "source": [
        "# Fitting the model"
      ]
    },
    {
      "cell_type": "code",
      "execution_count": 11,
      "id": "7678ced8",
      "metadata": {
        "colab": {
          "base_uri": "https://localhost:8080/"
        },
        "id": "7678ced8",
        "outputId": "7bae7d55-03f2-4b4c-8775-e917f6bdc81c"
      },
      "outputs": [
        {
          "output_type": "stream",
          "name": "stdout",
          "text": [
            "Epoch 1/5\n",
            "1875/1875 [==============================] - 124s 66ms/step - loss: 0.2578 - accuracy: 0.9482 - val_loss: 0.1180 - val_accuracy: 0.9652\n",
            "Epoch 2/5\n",
            "1875/1875 [==============================] - 124s 66ms/step - loss: 0.0778 - accuracy: 0.9769 - val_loss: 0.0907 - val_accuracy: 0.9739\n",
            "Epoch 3/5\n",
            "1875/1875 [==============================] - 126s 67ms/step - loss: 0.0549 - accuracy: 0.9829 - val_loss: 0.0921 - val_accuracy: 0.9734\n",
            "Epoch 4/5\n",
            "1875/1875 [==============================] - 122s 65ms/step - loss: 0.0421 - accuracy: 0.9865 - val_loss: 0.1090 - val_accuracy: 0.9707\n",
            "Epoch 5/5\n",
            "1875/1875 [==============================] - 122s 65ms/step - loss: 0.0315 - accuracy: 0.9898 - val_loss: 0.1161 - val_accuracy: 0.9731\n"
          ]
        },
        {
          "output_type": "execute_result",
          "data": {
            "text/plain": [
              "<keras.callbacks.History at 0x7f34a4958790>"
            ]
          },
          "metadata": {},
          "execution_count": 11
        }
      ],
      "source": [
        "model.fit(X_train,y_train,validation_data=(X_test,y_test),epochs=5,batch_size=32)"
      ]
    },
    {
      "cell_type": "markdown",
      "id": "2bb4039b",
      "metadata": {
        "id": "2bb4039b"
      },
      "source": [
        "# Observing the metrics"
      ]
    },
    {
      "cell_type": "code",
      "execution_count": 28,
      "id": "88df4900",
      "metadata": {
        "colab": {
          "base_uri": "https://localhost:8080/"
        },
        "id": "88df4900",
        "outputId": "be359656-bcf0-40bd-be80-ee3c4814e1ae"
      },
      "outputs": [
        {
          "output_type": "stream",
          "name": "stdout",
          "text": [
            "Metrics(Loss& Accuracy)\n",
            "[0.11606404930353165, 0.9731000065803528]\n"
          ]
        }
      ],
      "source": [
        "project_metrics=model.evaluate(X_test,y_test,verbose=0)\n",
        "print(\"Metrics(Loss& Accuracy)\")\n",
        "print(project_metrics)"
      ]
    },
    {
      "cell_type": "code",
      "source": [
        "import sklearn.metrics as metrics\n",
        "import numpy as np \n",
        "import matplotlib.pyplot as plt\n",
        "\n",
        "y_predict = model.predict(X_test)\n",
        "\n",
        "mae = metrics.mean_absolute_error(y_test, y_predict)\n",
        "mse = metrics.mean_squared_error(y_test, y_predict)\n",
        "rmse = np.sqrt(mse) # or mse**(0.5)  \n",
        "r2 = metrics.r2_score(y_test,y_predict)\n",
        "\n",
        "print(\"Results of sklearn.metrics:\")\n",
        "print(\"MAE:\",mae)\n",
        "print(\"MSE:\", mse)\n",
        "print(\"RMSE:\", rmse)\n",
        "print(\"R-Squared:\", r2)\n",
        " \n"
      ],
      "metadata": {
        "colab": {
          "base_uri": "https://localhost:8080/"
        },
        "id": "ubKwN3X-Uu1p",
        "outputId": "b7bd5a45-7124-48fe-ffae-aadf67cf40cf"
      },
      "id": "ubKwN3X-Uu1p",
      "execution_count": 27,
      "outputs": [
        {
          "output_type": "stream",
          "name": "stdout",
          "text": [
            "313/313 [==============================] - 5s 17ms/step\n",
            "Results of sklearn.metrics:\n",
            "MAE: 0.005652044\n",
            "MSE: 0.004229254\n",
            "RMSE: 0.06503271\n",
            "R-Squared: 0.9529207866394055\n"
          ]
        }
      ]
    },
    {
      "cell_type": "code",
      "source": [
        "y_predict = (y_predict>0.5)\n",
        "print(\"classification report\")\n",
        "print(metrics.classification_report(y_test, y_predict))\n",
        "print(\"accuracy score:\")\n",
        "print(metrics.accuracy_score(y_test, y_predict))\n",
        "##print(metrics.confusion_matrix(y_test, y_predict))"
      ],
      "metadata": {
        "colab": {
          "base_uri": "https://localhost:8080/"
        },
        "id": "VjZjmTXIV75N",
        "outputId": "dfbb74eb-e93f-472f-dd41-8792dd5e9bd5"
      },
      "id": "VjZjmTXIV75N",
      "execution_count": 32,
      "outputs": [
        {
          "output_type": "stream",
          "name": "stdout",
          "text": [
            "classification report\n",
            "              precision    recall  f1-score   support\n",
            "\n",
            "           0       0.98      0.98      0.98       980\n",
            "           1       0.98      0.98      0.98      1135\n",
            "           2       0.96      0.97      0.97      1032\n",
            "           3       0.97      0.98      0.98      1010\n",
            "           4       0.98      0.97      0.98       982\n",
            "           5       0.97      0.98      0.97       892\n",
            "           6       0.98      0.98      0.98       958\n",
            "           7       0.98      0.97      0.97      1028\n",
            "           8       0.98      0.94      0.96       974\n",
            "           9       0.97      0.96      0.96      1009\n",
            "\n",
            "   micro avg       0.97      0.97      0.97     10000\n",
            "   macro avg       0.97      0.97      0.97     10000\n",
            "weighted avg       0.97      0.97      0.97     10000\n",
            " samples avg       0.97      0.97      0.97     10000\n",
            "\n",
            "accuracy score:\n",
            "0.9727\n"
          ]
        },
        {
          "output_type": "stream",
          "name": "stderr",
          "text": [
            "/usr/local/lib/python3.7/dist-packages/sklearn/metrics/_classification.py:1318: UndefinedMetricWarning: Precision and F-score are ill-defined and being set to 0.0 in samples with no predicted labels. Use `zero_division` parameter to control this behavior.\n",
            "  _warn_prf(average, modifier, msg_start, len(result))\n"
          ]
        }
      ]
    },
    {
      "cell_type": "markdown",
      "id": "e35622a8",
      "metadata": {
        "id": "e35622a8"
      },
      "source": [
        "# Predicting the model"
      ]
    },
    {
      "cell_type": "code",
      "execution_count": null,
      "id": "2a8cc0e4",
      "metadata": {
        "id": "2a8cc0e4",
        "outputId": "06bb12da-c53e-482e-e02b-0dfbfaacd18e"
      },
      "outputs": [
        {
          "name": "stdout",
          "output_type": "stream",
          "text": [
            "1/1 [==============================] - 0s 66ms/step\n",
            "[[5.4520988e-12 1.0888041e-21 7.5880036e-13 1.2055289e-11 2.6268963e-19\n",
            "  3.1448650e-15 1.1666435e-19 1.0000000e+00 2.1508427e-11 2.9282635e-11]\n",
            " [4.4279619e-12 1.2889054e-12 1.0000000e+00 2.0362232e-17 5.6934279e-20\n",
            "  5.3493605e-19 4.8295710e-13 5.0981827e-21 1.0086084e-15 1.9516000e-19]\n",
            " [9.2632938e-08 9.9921167e-01 6.2528164e-07 4.8549702e-11 7.8550651e-04\n",
            "  1.5237079e-07 6.6308399e-09 1.0095750e-09 1.9272488e-06 1.2933888e-12]\n",
            " [1.0000000e+00 1.6884626e-16 2.7246841e-10 5.4617701e-15 1.6128288e-14\n",
            "  1.5063359e-10 5.7584715e-10 9.0131895e-14 7.9959858e-11 2.1980879e-08]]\n"
          ]
        }
      ],
      "source": [
        "prediction=model.predict(X_test[:4])\n",
        "print(prediction)"
      ]
    },
    {
      "cell_type": "code",
      "execution_count": null,
      "id": "f8796a9e",
      "metadata": {
        "id": "f8796a9e",
        "outputId": "14a9fa89-bddf-40ca-8e9b-1cf5e5dfb482"
      },
      "outputs": [
        {
          "name": "stdout",
          "output_type": "stream",
          "text": [
            "Metrics(Loss& Accuracy)\n",
            "[0.09232578426599503, 0.9797999858856201]\n"
          ]
        }
      ],
      "source": [
        "metrics=model.evaluate(X_test,y_test,verbose=0)\n",
        "print(\"Metrics(Loss& Accuracy)\")\n",
        "print(metrics)"
      ]
    },
    {
      "cell_type": "code",
      "execution_count": null,
      "id": "4281b441",
      "metadata": {
        "id": "4281b441",
        "outputId": "0d1c13ab-046d-4c0a-e0da-0be1e6dd5abd"
      },
      "outputs": [
        {
          "name": "stdout",
          "output_type": "stream",
          "text": [
            "1/1 [==============================] - 0s 48ms/step\n",
            "[[5.4520988e-12 1.0888041e-21 7.5880036e-13 1.2055289e-11 2.6268963e-19\n",
            "  3.1448650e-15 1.1666435e-19 1.0000000e+00 2.1508427e-11 2.9282635e-11]\n",
            " [4.4279619e-12 1.2889054e-12 1.0000000e+00 2.0362232e-17 5.6934279e-20\n",
            "  5.3493605e-19 4.8295710e-13 5.0981827e-21 1.0086084e-15 1.9516000e-19]\n",
            " [9.2632938e-08 9.9921167e-01 6.2528164e-07 4.8549702e-11 7.8550651e-04\n",
            "  1.5237079e-07 6.6308399e-09 1.0095750e-09 1.9272488e-06 1.2933888e-12]\n",
            " [1.0000000e+00 1.6884626e-16 2.7246841e-10 5.4617701e-15 1.6128288e-14\n",
            "  1.5063359e-10 5.7584715e-10 9.0131895e-14 7.9959858e-11 2.1980879e-08]]\n"
          ]
        }
      ],
      "source": [
        "prediction=model.predict(X_test[:4])\n",
        "print(prediction)"
      ]
    },
    {
      "cell_type": "code",
      "execution_count": null,
      "id": "c5af9a45",
      "metadata": {
        "id": "c5af9a45",
        "outputId": "cb4cae7b-003d-4c29-fe53-454c4b785b8b"
      },
      "outputs": [
        {
          "name": "stdout",
          "output_type": "stream",
          "text": [
            "[7 2 1 0]\n",
            "[[0. 0. 0. 0. 0. 0. 0. 1. 0. 0.]\n",
            " [0. 0. 1. 0. 0. 0. 0. 0. 0. 0.]\n",
            " [0. 1. 0. 0. 0. 0. 0. 0. 0. 0.]\n",
            " [1. 0. 0. 0. 0. 0. 0. 0. 0. 0.]]\n"
          ]
        }
      ],
      "source": [
        "import numpy as np\n",
        "print(np.argmax(prediction,axis=1))\n",
        "print(y_test[:4])"
      ]
    },
    {
      "cell_type": "markdown",
      "id": "d1bbba94",
      "metadata": {
        "id": "d1bbba94"
      },
      "source": [
        "# Saving the model"
      ]
    },
    {
      "cell_type": "code",
      "execution_count": null,
      "id": "c25d3106",
      "metadata": {
        "id": "c25d3106"
      },
      "outputs": [],
      "source": [
        "model.save('models/mnistCNN.h5')"
      ]
    }
  ],
  "metadata": {
    "kernelspec": {
      "display_name": "Python 3",
      "language": "python",
      "name": "python3"
    },
    "language_info": {
      "codemirror_mode": {
        "name": "ipython",
        "version": 3
      },
      "file_extension": ".py",
      "mimetype": "text/x-python",
      "name": "python",
      "nbconvert_exporter": "python",
      "pygments_lexer": "ipython3",
      "version": "3.7.0"
    },
    "colab": {
      "provenance": []
    }
  },
  "nbformat": 4,
  "nbformat_minor": 5
}