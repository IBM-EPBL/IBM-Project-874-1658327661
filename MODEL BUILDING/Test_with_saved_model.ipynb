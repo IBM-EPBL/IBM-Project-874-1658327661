{
  "cells": [
    {
      "cell_type": "markdown",
      "source": [
        "TEAM ID:PNT2022TMID06256"
      ],
      "metadata": {
        "id": "OCq-970S9vKE"
      },
      "id": "OCq-970S9vKE"
    },
    {
      "cell_type": "code",
      "execution_count": null,
      "id": "ed3a9b71",
      "metadata": {
        "id": "ed3a9b71"
      },
      "outputs": [],
      "source": [
        "import numpy"
      ]
    },
    {
      "cell_type": "code",
      "execution_count": null,
      "id": "59927097",
      "metadata": {
        "id": "59927097"
      },
      "outputs": [],
      "source": [
        "import tensorflow"
      ]
    },
    {
      "cell_type": "code",
      "execution_count": null,
      "id": "aef6eb4e",
      "metadata": {
        "id": "aef6eb4e"
      },
      "outputs": [],
      "source": [
        "from tensorflow.keras.datasets import mnist"
      ]
    },
    {
      "cell_type": "code",
      "execution_count": null,
      "id": "366efdea",
      "metadata": {
        "id": "366efdea"
      },
      "outputs": [],
      "source": [
        "from tensorflow.keras.models import Sequential"
      ]
    },
    {
      "cell_type": "code",
      "execution_count": null,
      "id": "a46cd71a",
      "metadata": {
        "id": "a46cd71a"
      },
      "outputs": [],
      "source": [
        "from tensorflow.keras import layers"
      ]
    },
    {
      "cell_type": "code",
      "execution_count": null,
      "id": "2f4a7a63",
      "metadata": {
        "id": "2f4a7a63"
      },
      "outputs": [],
      "source": [
        "from tensorflow.keras.layers import Dense, Flatten"
      ]
    },
    {
      "cell_type": "code",
      "execution_count": null,
      "id": "96936711",
      "metadata": {
        "id": "96936711"
      },
      "outputs": [],
      "source": [
        "from tensorflow.keras.layers import Conv2D"
      ]
    },
    {
      "cell_type": "code",
      "execution_count": null,
      "id": "4b16ec3f",
      "metadata": {
        "id": "4b16ec3f"
      },
      "outputs": [],
      "source": [
        "from keras.optimizers import Adam"
      ]
    },
    {
      "cell_type": "code",
      "execution_count": null,
      "id": "40dd8300",
      "metadata": {
        "id": "40dd8300"
      },
      "outputs": [],
      "source": [
        "from keras.utils import np_utils"
      ]
    },
    {
      "cell_type": "markdown",
      "id": "8494c4e1",
      "metadata": {
        "id": "8494c4e1"
      },
      "source": [
        "# load data"
      ]
    },
    {
      "cell_type": "code",
      "execution_count": null,
      "id": "ae295fdc",
      "metadata": {
        "id": "ae295fdc"
      },
      "outputs": [],
      "source": [
        "(x_train,y_train),(x_test,y_test)=mnist.load_data()"
      ]
    },
    {
      "cell_type": "code",
      "execution_count": null,
      "id": "0862d591",
      "metadata": {
        "id": "0862d591",
        "outputId": "f5d370ef-498f-4b28-8035-67325a340def"
      },
      "outputs": [
        {
          "name": "stdout",
          "output_type": "stream",
          "text": [
            "(60000, 28, 28)\n"
          ]
        }
      ],
      "source": [
        "print(x_train.shape)"
      ]
    },
    {
      "cell_type": "code",
      "execution_count": null,
      "id": "bb0f4e7d",
      "metadata": {
        "id": "bb0f4e7d",
        "outputId": "1cd58a7e-3db5-4dbc-f92f-3aa0c0a2bdcc"
      },
      "outputs": [
        {
          "name": "stdout",
          "output_type": "stream",
          "text": [
            "(10000, 28, 28)\n"
          ]
        }
      ],
      "source": [
        "print(x_test.shape)"
      ]
    },
    {
      "cell_type": "markdown",
      "id": "20640e55",
      "metadata": {
        "id": "20640e55"
      },
      "source": [
        "# understanding the data"
      ]
    },
    {
      "cell_type": "code",
      "execution_count": null,
      "id": "a6c787d6",
      "metadata": {
        "id": "a6c787d6",
        "outputId": "5307877e-0d2e-4f4b-b252-6ac35044ea59"
      },
      "outputs": [
        {
          "data": {
            "text/plain": [
              "array([[  0,   0,   0,   0,   0,   0,   0,   0,   0,   0,   0,   0,   0,\n",
              "          0,   0,   0,   0,   0,   0,   0,   0,   0,   0,   0,   0,   0,\n",
              "          0,   0],\n",
              "       [  0,   0,   0,   0,   0,   0,   0,   0,   0,   0,   0,   0,   0,\n",
              "          0,   0,   0,   0,   0,   0,   0,   0,   0,   0,   0,   0,   0,\n",
              "          0,   0],\n",
              "       [  0,   0,   0,   0,   0,   0,   0,   0,   0,   0,   0,   0,   0,\n",
              "          0,   0,   0,   0,   0,   0,   0,   0,   0,   0,   0,   0,   0,\n",
              "          0,   0],\n",
              "       [  0,   0,   0,   0,   0,   0,   0,   0,   0,   0,   0,   0,   0,\n",
              "          0,   0,   0,   0,   0,   0,   0,   0,   0,   0,   0,   0,   0,\n",
              "          0,   0],\n",
              "       [  0,   0,   0,   0,   0,   0,   0,   0,   0,   0,   0,   0,   0,\n",
              "          0,   0,   0,   0,   0,   0,   0,   0,   0,   0,   0,   0,   0,\n",
              "          0,   0],\n",
              "       [  0,   0,   0,   0,   0,   0,   0,   0,   0,   0,   0,   0,   3,\n",
              "         18,  18,  18, 126, 136, 175,  26, 166, 255, 247, 127,   0,   0,\n",
              "          0,   0],\n",
              "       [  0,   0,   0,   0,   0,   0,   0,   0,  30,  36,  94, 154, 170,\n",
              "        253, 253, 253, 253, 253, 225, 172, 253, 242, 195,  64,   0,   0,\n",
              "          0,   0],\n",
              "       [  0,   0,   0,   0,   0,   0,   0,  49, 238, 253, 253, 253, 253,\n",
              "        253, 253, 253, 253, 251,  93,  82,  82,  56,  39,   0,   0,   0,\n",
              "          0,   0],\n",
              "       [  0,   0,   0,   0,   0,   0,   0,  18, 219, 253, 253, 253, 253,\n",
              "        253, 198, 182, 247, 241,   0,   0,   0,   0,   0,   0,   0,   0,\n",
              "          0,   0],\n",
              "       [  0,   0,   0,   0,   0,   0,   0,   0,  80, 156, 107, 253, 253,\n",
              "        205,  11,   0,  43, 154,   0,   0,   0,   0,   0,   0,   0,   0,\n",
              "          0,   0],\n",
              "       [  0,   0,   0,   0,   0,   0,   0,   0,   0,  14,   1, 154, 253,\n",
              "         90,   0,   0,   0,   0,   0,   0,   0,   0,   0,   0,   0,   0,\n",
              "          0,   0],\n",
              "       [  0,   0,   0,   0,   0,   0,   0,   0,   0,   0,   0, 139, 253,\n",
              "        190,   2,   0,   0,   0,   0,   0,   0,   0,   0,   0,   0,   0,\n",
              "          0,   0],\n",
              "       [  0,   0,   0,   0,   0,   0,   0,   0,   0,   0,   0,  11, 190,\n",
              "        253,  70,   0,   0,   0,   0,   0,   0,   0,   0,   0,   0,   0,\n",
              "          0,   0],\n",
              "       [  0,   0,   0,   0,   0,   0,   0,   0,   0,   0,   0,   0,  35,\n",
              "        241, 225, 160, 108,   1,   0,   0,   0,   0,   0,   0,   0,   0,\n",
              "          0,   0],\n",
              "       [  0,   0,   0,   0,   0,   0,   0,   0,   0,   0,   0,   0,   0,\n",
              "         81, 240, 253, 253, 119,  25,   0,   0,   0,   0,   0,   0,   0,\n",
              "          0,   0],\n",
              "       [  0,   0,   0,   0,   0,   0,   0,   0,   0,   0,   0,   0,   0,\n",
              "          0,  45, 186, 253, 253, 150,  27,   0,   0,   0,   0,   0,   0,\n",
              "          0,   0],\n",
              "       [  0,   0,   0,   0,   0,   0,   0,   0,   0,   0,   0,   0,   0,\n",
              "          0,   0,  16,  93, 252, 253, 187,   0,   0,   0,   0,   0,   0,\n",
              "          0,   0],\n",
              "       [  0,   0,   0,   0,   0,   0,   0,   0,   0,   0,   0,   0,   0,\n",
              "          0,   0,   0,   0, 249, 253, 249,  64,   0,   0,   0,   0,   0,\n",
              "          0,   0],\n",
              "       [  0,   0,   0,   0,   0,   0,   0,   0,   0,   0,   0,   0,   0,\n",
              "          0,  46, 130, 183, 253, 253, 207,   2,   0,   0,   0,   0,   0,\n",
              "          0,   0],\n",
              "       [  0,   0,   0,   0,   0,   0,   0,   0,   0,   0,   0,   0,  39,\n",
              "        148, 229, 253, 253, 253, 250, 182,   0,   0,   0,   0,   0,   0,\n",
              "          0,   0],\n",
              "       [  0,   0,   0,   0,   0,   0,   0,   0,   0,   0,  24, 114, 221,\n",
              "        253, 253, 253, 253, 201,  78,   0,   0,   0,   0,   0,   0,   0,\n",
              "          0,   0],\n",
              "       [  0,   0,   0,   0,   0,   0,   0,   0,  23,  66, 213, 253, 253,\n",
              "        253, 253, 198,  81,   2,   0,   0,   0,   0,   0,   0,   0,   0,\n",
              "          0,   0],\n",
              "       [  0,   0,   0,   0,   0,   0,  18, 171, 219, 253, 253, 253, 253,\n",
              "        195,  80,   9,   0,   0,   0,   0,   0,   0,   0,   0,   0,   0,\n",
              "          0,   0],\n",
              "       [  0,   0,   0,   0,  55, 172, 226, 253, 253, 253, 253, 244, 133,\n",
              "         11,   0,   0,   0,   0,   0,   0,   0,   0,   0,   0,   0,   0,\n",
              "          0,   0],\n",
              "       [  0,   0,   0,   0, 136, 253, 253, 253, 212, 135, 132,  16,   0,\n",
              "          0,   0,   0,   0,   0,   0,   0,   0,   0,   0,   0,   0,   0,\n",
              "          0,   0],\n",
              "       [  0,   0,   0,   0,   0,   0,   0,   0,   0,   0,   0,   0,   0,\n",
              "          0,   0,   0,   0,   0,   0,   0,   0,   0,   0,   0,   0,   0,\n",
              "          0,   0],\n",
              "       [  0,   0,   0,   0,   0,   0,   0,   0,   0,   0,   0,   0,   0,\n",
              "          0,   0,   0,   0,   0,   0,   0,   0,   0,   0,   0,   0,   0,\n",
              "          0,   0],\n",
              "       [  0,   0,   0,   0,   0,   0,   0,   0,   0,   0,   0,   0,   0,\n",
              "          0,   0,   0,   0,   0,   0,   0,   0,   0,   0,   0,   0,   0,\n",
              "          0,   0]], dtype=uint8)"
            ]
          },
          "execution_count": 13,
          "metadata": {},
          "output_type": "execute_result"
        }
      ],
      "source": [
        "x_train[0]"
      ]
    },
    {
      "cell_type": "code",
      "execution_count": null,
      "id": "7f4a1aca",
      "metadata": {
        "id": "7f4a1aca",
        "outputId": "d546b070-91b4-4fdf-d584-01bcb89bd5ee"
      },
      "outputs": [
        {
          "data": {
            "text/plain": [
              "5"
            ]
          },
          "execution_count": 14,
          "metadata": {},
          "output_type": "execute_result"
        }
      ],
      "source": [
        "y_train[0]"
      ]
    },
    {
      "cell_type": "code",
      "execution_count": null,
      "id": "8cb250e1",
      "metadata": {
        "id": "8cb250e1"
      },
      "outputs": [],
      "source": [
        "import matplotlib.pyplot as plt"
      ]
    },
    {
      "cell_type": "code",
      "execution_count": null,
      "id": "04d9b452",
      "metadata": {
        "id": "04d9b452",
        "outputId": "e109b363-f387-4c90-981b-50070e5ccb23"
      },
      "outputs": [
        {
          "data": {
            "text/plain": [
              "<matplotlib.image.AxesImage at 0x26465fb58b0>"
            ]
          },
          "execution_count": 16,
          "metadata": {},
          "output_type": "execute_result"
        },
        {
          "data": {
            "image/png": "[encoded data removed]",
            "text/plain": [
              "<Figure size 432x288 with 1 Axes>"
            ]
          },
          "metadata": {
            "needs_background": "light"
          },
          "output_type": "display_data"
        }
      ],
      "source": [
        "plt.imshow(x_train[0])"
      ]
    },
    {
      "cell_type": "markdown",
      "id": "15bc23cb",
      "metadata": {
        "id": "15bc23cb"
      },
      "source": [
        "# Reshaping Dataset"
      ]
    },
    {
      "cell_type": "code",
      "execution_count": null,
      "id": "759f0200",
      "metadata": {
        "id": "759f0200"
      },
      "outputs": [],
      "source": [
        "x_train=x_train.reshape(60000,28,28,1).astype('float32')"
      ]
    },
    {
      "cell_type": "code",
      "execution_count": null,
      "id": "5db70ce0",
      "metadata": {
        "id": "5db70ce0"
      },
      "outputs": [],
      "source": [
        "x_test=x_test.reshape(10000,28,28,1).astype('float32')"
      ]
    },
    {
      "cell_type": "markdown",
      "id": "79f087a7",
      "metadata": {
        "id": "79f087a7"
      },
      "source": [
        "# Applying One Hot Encoding"
      ]
    },
    {
      "cell_type": "code",
      "execution_count": null,
      "id": "e76ef0e9",
      "metadata": {
        "id": "e76ef0e9"
      },
      "outputs": [],
      "source": [
        "number_of_classes = 10"
      ]
    },
    {
      "cell_type": "code",
      "execution_count": null,
      "id": "08e92a14",
      "metadata": {
        "id": "08e92a14"
      },
      "outputs": [],
      "source": [
        "y_train = np_utils.to_categorical(y_train, number_of_classes)"
      ]
    },
    {
      "cell_type": "code",
      "execution_count": null,
      "id": "6bd91884",
      "metadata": {
        "id": "6bd91884"
      },
      "outputs": [],
      "source": [
        "y_test = np_utils.to_categorical(y_test, number_of_classes)"
      ]
    },
    {
      "cell_type": "code",
      "execution_count": null,
      "id": "bb073800",
      "metadata": {
        "id": "bb073800",
        "outputId": "7162265d-1769-43d3-bfad-c2bb7278ebdc"
      },
      "outputs": [
        {
          "data": {
            "text/plain": [
              "array([0., 0., 0., 0., 0., 1., 0., 0., 0., 0.], dtype=float32)"
            ]
          },
          "execution_count": 22,
          "metadata": {},
          "output_type": "execute_result"
        }
      ],
      "source": [
        "y_train[0]"
      ]
    },
    {
      "cell_type": "markdown",
      "id": "b573fbc6",
      "metadata": {
        "id": "b573fbc6"
      },
      "source": [
        "# create the model"
      ]
    },
    {
      "cell_type": "code",
      "execution_count": null,
      "id": "4da01904",
      "metadata": {
        "id": "4da01904"
      },
      "outputs": [],
      "source": [
        "model=Sequential()\n"
      ]
    },
    {
      "cell_type": "code",
      "execution_count": null,
      "id": "97b20d55",
      "metadata": {
        "id": "97b20d55"
      },
      "outputs": [],
      "source": [
        "model.add(Conv2D(64,(3,3),input_shape=(28,28,1),activation=\"relu\"))"
      ]
    },
    {
      "cell_type": "code",
      "execution_count": null,
      "id": "1b679a05",
      "metadata": {
        "id": "1b679a05"
      },
      "outputs": [],
      "source": [
        "model.add(Conv2D(32,(3,3),activation='relu'))"
      ]
    },
    {
      "cell_type": "code",
      "execution_count": null,
      "id": "9f7a79ab",
      "metadata": {
        "id": "9f7a79ab"
      },
      "outputs": [],
      "source": [
        "model.add(Flatten())"
      ]
    },
    {
      "cell_type": "code",
      "execution_count": null,
      "id": "9c245131",
      "metadata": {
        "id": "9c245131"
      },
      "outputs": [],
      "source": [
        "model.add(Dense(number_of_classes,activation=\"softmax\"))"
      ]
    },
    {
      "cell_type": "markdown",
      "id": "1b5a1a60",
      "metadata": {
        "id": "1b5a1a60"
      },
      "source": [
        "# Compiling the model\n"
      ]
    },
    {
      "cell_type": "code",
      "execution_count": null,
      "id": "9976d2a5",
      "metadata": {
        "id": "9976d2a5"
      },
      "outputs": [],
      "source": [
        "model.compile(loss='categorical_crossentropy',optimizer=\"Adam\",metrics=['accuracy'])"
      ]
    },
    {
      "cell_type": "markdown",
      "id": "0b17467b",
      "metadata": {
        "id": "0b17467b"
      },
      "source": [
        "# Train The Model(fitting the model)"
      ]
    },
    {
      "cell_type": "code",
      "execution_count": null,
      "id": "f4dce875",
      "metadata": {
        "id": "f4dce875",
        "outputId": "d4f0c735-7500-4b33-8741-1f5554b39bf9"
      },
      "outputs": [
        {
          "name": "stdout",
          "output_type": "stream",
          "text": [
            "Epoch 1/5\n",
            "1875/1875 [==============================] - 149s 79ms/step - loss: 0.1771 - accuracy: 0.9560 - val_loss: 0.0854 - val_accuracy: 0.9742\n",
            "Epoch 2/5\n",
            "1875/1875 [==============================] - 165s 88ms/step - loss: 0.0629 - accuracy: 0.9809 - val_loss: 0.0772 - val_accuracy: 0.9777\n",
            "Epoch 3/5\n",
            "1875/1875 [==============================] - 157s 84ms/step - loss: 0.0469 - accuracy: 0.9856 - val_loss: 0.0952 - val_accuracy: 0.9739\n",
            "Epoch 4/5\n",
            "1875/1875 [==============================] - 151s 81ms/step - loss: 0.0310 - accuracy: 0.9900 - val_loss: 0.0887 - val_accuracy: 0.9807\n",
            "Epoch 5/5\n",
            "1875/1875 [==============================] - 158s 84ms/step - loss: 0.0253 - accuracy: 0.9922 - val_loss: 0.1195 - val_accuracy: 0.9781\n"
          ]
        },
        {
          "data": {
            "text/plain": [
              "<keras.callbacks.History at 0x26464fc3f10>"
            ]
          },
          "execution_count": 29,
          "metadata": {},
          "output_type": "execute_result"
        }
      ],
      "source": [
        "model.fit(x_train,y_train,validation_data=(x_test,y_test),epochs=5,batch_size=32)"
      ]
    },
    {
      "cell_type": "markdown",
      "id": "0bea82cc",
      "metadata": {
        "id": "0bea82cc"
      },
      "source": [
        "# Observing the metrics"
      ]
    },
    {
      "cell_type": "code",
      "execution_count": null,
      "id": "c6ae3194",
      "metadata": {
        "id": "c6ae3194"
      },
      "outputs": [],
      "source": [
        "metrics=model.evaluate(x_test,y_test,verbose=0)"
      ]
    },
    {
      "cell_type": "code",
      "execution_count": null,
      "id": "d73cd411",
      "metadata": {
        "id": "d73cd411",
        "outputId": "0b340efb-947b-4604-dca8-78047d693ce0"
      },
      "outputs": [
        {
          "name": "stdout",
          "output_type": "stream",
          "text": [
            "Mertics(Test loss & Test Accuracy):\n",
            "[0.11946097761392593, 0.9781000018119812]\n"
          ]
        }
      ],
      "source": [
        "print(\"Mertics(Test loss & Test Accuracy):\")\n",
        "print(metrics)"
      ]
    },
    {
      "cell_type": "markdown",
      "id": "69ef5b94",
      "metadata": {
        "id": "69ef5b94"
      },
      "source": [
        "# Test the model"
      ]
    },
    {
      "cell_type": "code",
      "execution_count": null,
      "id": "ad2257d4",
      "metadata": {
        "id": "ad2257d4",
        "outputId": "2562208d-61d5-44c7-b6cd-26a6a55a805b"
      },
      "outputs": [
        {
          "name": "stdout",
          "output_type": "stream",
          "text": [
            "1/1 [==============================] - 0s 227ms/step\n",
            "[[8.7969666e-17 6.5749984e-22 8.5030195e-14 2.4459026e-09 1.0123269e-25\n",
            "  6.6197198e-22 1.9805131e-25 1.0000000e+00 9.7074760e-14 1.4007216e-13]\n",
            " [1.1095469e-09 1.3468847e-15 1.0000000e+00 3.5912609e-15 3.4516151e-22\n",
            "  4.2462901e-21 1.8621271e-11 4.1449071e-27 3.8956200e-13 3.7019410e-22]\n",
            " [1.1927103e-08 9.9998760e-01 2.6663010e-09 1.4025115e-13 2.7118290e-06\n",
            "  6.0289194e-06 4.7341229e-09 8.6994284e-10 3.5885453e-06 3.6283821e-15]\n",
            " [1.0000000e+00 6.0646924e-20 4.6409980e-11 8.5558025e-16 4.2709407e-18\n",
            "  6.5854298e-14 2.3410943e-11 1.3389890e-17 8.3984841e-16 2.1590561e-10]]\n"
          ]
        }
      ],
      "source": [
        "prediction=model.predict(x_test[:4])\n",
        "print(prediction)"
      ]
    },
    {
      "cell_type": "markdown",
      "id": "d9d4fdb7",
      "metadata": {
        "id": "d9d4fdb7"
      },
      "source": [
        "# Observing the metrics"
      ]
    },
    {
      "cell_type": "code",
      "execution_count": null,
      "id": "0ea63574",
      "metadata": {
        "id": "0ea63574",
        "outputId": "2b2a8ffd-8954-4151-98c1-2802fc683e09"
      },
      "outputs": [
        {
          "name": "stdout",
          "output_type": "stream",
          "text": [
            "Mertics(Test loss & Test Accuracy):\n",
            "[0.11946097761392593, 0.9781000018119812]\n"
          ]
        }
      ],
      "source": [
        "metrics=model.evaluate(x_test,y_test,verbose=0)\n",
        "print(\"Mertics(Test loss & Test Accuracy):\")\n",
        "print(metrics)"
      ]
    },
    {
      "cell_type": "markdown",
      "id": "a8ed81a4",
      "metadata": {
        "id": "a8ed81a4"
      },
      "source": [
        "# Test the model"
      ]
    },
    {
      "cell_type": "code",
      "execution_count": null,
      "id": "b0633379",
      "metadata": {
        "id": "b0633379",
        "outputId": "aa536228-c381-46c3-d713-ce87e5a2f83b"
      },
      "outputs": [
        {
          "name": "stdout",
          "output_type": "stream",
          "text": [
            "1/1 [==============================] - 0s 44ms/step\n",
            "[[8.7969666e-17 6.5749984e-22 8.5030195e-14 2.4459026e-09 1.0123269e-25\n",
            "  6.6197198e-22 1.9805131e-25 1.0000000e+00 9.7074760e-14 1.4007216e-13]\n",
            " [1.1095469e-09 1.3468847e-15 1.0000000e+00 3.5912609e-15 3.4516151e-22\n",
            "  4.2462901e-21 1.8621271e-11 4.1449071e-27 3.8956200e-13 3.7019410e-22]\n",
            " [1.1927103e-08 9.9998760e-01 2.6663010e-09 1.4025115e-13 2.7118290e-06\n",
            "  6.0289194e-06 4.7341229e-09 8.6994284e-10 3.5885453e-06 3.6283821e-15]\n",
            " [1.0000000e+00 6.0646924e-20 4.6409980e-11 8.5558025e-16 4.2709407e-18\n",
            "  6.5854298e-14 2.3410943e-11 1.3389890e-17 8.3984841e-16 2.1590561e-10]]\n"
          ]
        }
      ],
      "source": [
        "prediction=model.predict(x_test[:4])\n",
        "print(prediction)"
      ]
    },
    {
      "cell_type": "markdown",
      "id": "02486f7b",
      "metadata": {
        "id": "02486f7b"
      },
      "source": [
        "# save the model"
      ]
    },
    {
      "cell_type": "code",
      "execution_count": null,
      "id": "c31dd932",
      "metadata": {
        "id": "c31dd932"
      },
      "outputs": [],
      "source": [
        "model.save('models/mnistCNN.h5')"
      ]
    },
    {
      "cell_type": "markdown",
      "id": "bd73397d",
      "metadata": {
        "id": "bd73397d"
      },
      "source": [
        "# test with the saved model"
      ]
    },
    {
      "cell_type": "code",
      "execution_count": null,
      "id": "e601b6dc",
      "metadata": {
        "id": "e601b6dc"
      },
      "outputs": [],
      "source": [
        "from tensorflow.keras.models import load_model"
      ]
    },
    {
      "cell_type": "code",
      "execution_count": null,
      "id": "02501c41",
      "metadata": {
        "id": "02501c41"
      },
      "outputs": [],
      "source": [
        "model=load_model(r'C:\\Users\\nithy\\models\\mnistCNN.h5')"
      ]
    },
    {
      "cell_type": "code",
      "execution_count": null,
      "id": "33cb1de0",
      "metadata": {
        "id": "33cb1de0"
      },
      "outputs": [],
      "source": [
        "from PIL import Image"
      ]
    },
    {
      "cell_type": "code",
      "execution_count": null,
      "id": "e9a81658",
      "metadata": {
        "id": "e9a81658"
      },
      "outputs": [],
      "source": [
        "import numpy as np"
      ]
    },
    {
      "cell_type": "code",
      "execution_count": null,
      "id": "a3e76272",
      "metadata": {
        "id": "a3e76272",
        "outputId": "352cc8ca-3bd8-4396-e8a9-4d9b1bf95a44"
      },
      "outputs": [
        {
          "name": "stdout",
          "output_type": "stream",
          "text": [
            "1/1 [==============================] - 0s 100ms/step\n",
            "[[0.12043309 0.05673093 0.0898339  0.04713611 0.05784901 0.129515\n",
            "  0.12116217 0.03154609 0.17173983 0.17405385]]\n",
            "1/1 [==============================] - 0s 27ms/step\n",
            "[[0.14496574 0.02907675 0.26663652 0.30270296 0.04957851 0.00391167\n",
            "  0.01174463 0.01210053 0.09836391 0.08091882]]\n",
            "1/1 [==============================] - 0s 26ms/step\n",
            "[[2.7074435e-01 1.4534253e-06 3.5935082e-02 4.8260731e-01 1.6597639e-08\n",
            "  2.3826435e-03 1.4896087e-08 8.0592217e-05 8.1928022e-04 2.0742917e-01]]\n",
            "1/1 [==============================] - 0s 27ms/step\n",
            "[[2.8176487e-07 1.7496832e-01 3.0965906e-02 7.7877840e-04 5.1893014e-08\n",
            "  6.0884264e-05 5.3804876e-09 1.8368025e-01 6.0953349e-01 1.2035665e-05]]\n"
          ]
        }
      ],
      "source": [
        "for index in range(4):\n",
        "    img=Image.open('C:/Users/nithy/'+str(index)+'.png').convert(\"L\")\n",
        "    img=img.resize((28,28))\n",
        "    im2arr=np.array(img)\n",
        "    im2arr=im2arr.reshape(1,28,28,1)\n",
        "    y_pred=model.predict(im2arr)\n",
        "    print(y_pred)"
      ]
    },
    {
      "cell_type": "code",
      "execution_count": null,
      "id": "d6e22999",
      "metadata": {
        "id": "d6e22999"
      },
      "outputs": [],
      "source": []
    }
  ],
  "metadata": {
    "kernelspec": {
      "display_name": "Python 3 (ipykernel)",
      "language": "python",
      "name": "python3"
    },
    "language_info": {
      "codemirror_mode": {
        "name": "ipython",
        "version": 3
      },
      "file_extension": ".py",
      "mimetype": "text/x-python",
      "name": "python",
      "nbconvert_exporter": "python",
      "pygments_lexer": "ipython3",
      "version": "3.9.12"
    },
    "colab": {
      "provenance": [],
      "collapsed_sections": [
        "15bc23cb",
        "79f087a7",
        "b573fbc6",
        "1b5a1a60",
        "0b17467b",
        "0bea82cc",
        "69ef5b94",
        "d9d4fdb7",
        "a8ed81a4",
        "02486f7b",
        "bd73397d"
      ]
    }
  },
  "nbformat": 4,
  "nbformat_minor": 5
}