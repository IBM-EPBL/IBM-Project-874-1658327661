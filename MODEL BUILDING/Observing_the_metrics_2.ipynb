{
  "cells": [
    {
      "cell_type": "markdown",
      "source": [
        "TEAM ID: PNT2022TMID06256"
      ],
      "metadata": {
        "id": "-Ib-xuuH2P5i"
      },
      "id": "-Ib-xuuH2P5i"
    },
    {
      "cell_type": "code",
      "execution_count": null,
      "id": "78a4ca23",
      "metadata": {
        "id": "78a4ca23"
      },
      "outputs": [],
      "source": [
        "import numpy"
      ]
    },
    {
      "cell_type": "code",
      "execution_count": null,
      "id": "f4904f49",
      "metadata": {
        "id": "f4904f49"
      },
      "outputs": [],
      "source": [
        "import tensorflow"
      ]
    },
    {
      "cell_type": "code",
      "execution_count": null,
      "id": "0c71dbe3",
      "metadata": {
        "id": "0c71dbe3"
      },
      "outputs": [],
      "source": [
        "from tensorflow.keras.datasets import mnist"
      ]
    },
    {
      "cell_type": "code",
      "execution_count": null,
      "id": "c4a97519",
      "metadata": {
        "id": "c4a97519"
      },
      "outputs": [],
      "source": [
        "from tensorflow.keras.models import Sequential"
      ]
    },
    {
      "cell_type": "code",
      "execution_count": null,
      "id": "ca88d09d",
      "metadata": {
        "id": "ca88d09d"
      },
      "outputs": [],
      "source": [
        "from tensorflow.keras import layers"
      ]
    },
    {
      "cell_type": "code",
      "execution_count": null,
      "id": "56b855bc",
      "metadata": {
        "id": "56b855bc"
      },
      "outputs": [],
      "source": [
        "from tensorflow.keras.layers import Dense, Flatten"
      ]
    },
    {
      "cell_type": "code",
      "execution_count": null,
      "id": "febf3d86",
      "metadata": {
        "id": "febf3d86"
      },
      "outputs": [],
      "source": [
        "from tensorflow.keras.layers import Conv2D"
      ]
    },
    {
      "cell_type": "code",
      "execution_count": null,
      "id": "1fccf4b1",
      "metadata": {
        "id": "1fccf4b1"
      },
      "outputs": [],
      "source": [
        "from keras.optimizers import Adam"
      ]
    },
    {
      "cell_type": "code",
      "execution_count": null,
      "id": "cc6a51d6",
      "metadata": {
        "id": "cc6a51d6"
      },
      "outputs": [],
      "source": [
        "from keras.utils import np_utils"
      ]
    },
    {
      "cell_type": "markdown",
      "id": "a755c40c",
      "metadata": {
        "id": "a755c40c"
      },
      "source": [
        "# load data"
      ]
    },
    {
      "cell_type": "code",
      "execution_count": null,
      "id": "88e97d03",
      "metadata": {
        "id": "88e97d03",
        "outputId": "d18bd5c5-9cd7-4c7b-9515-bbd23521a0c6"
      },
      "outputs": [
        {
          "name": "stdout",
          "output_type": "stream",
          "text": [
            "Downloading data from https://storage.googleapis.com/tensorflow/tf-keras-datasets/mnist.npz\n",
            "11490434/11490434 [==============================] - 12s 1us/step\n"
          ]
        }
      ],
      "source": [
        "(x_train,y_train),(x_test,y_test)=mnist.load_data()"
      ]
    },
    {
      "cell_type": "code",
      "execution_count": null,
      "id": "f9cf745c",
      "metadata": {
        "id": "f9cf745c",
        "outputId": "3d0bf4fd-9cd3-4b29-d273-88a6d3c6c99f"
      },
      "outputs": [
        {
          "name": "stdout",
          "output_type": "stream",
          "text": [
            "(60000, 28, 28)\n"
          ]
        }
      ],
      "source": [
        "print(x_train.shape)"
      ]
    },
    {
      "cell_type": "code",
      "execution_count": null,
      "id": "e90c1416",
      "metadata": {
        "id": "e90c1416",
        "outputId": "e0603025-2dc4-4618-8828-30055958ffbf"
      },
      "outputs": [
        {
          "name": "stdout",
          "output_type": "stream",
          "text": [
            "(10000, 28, 28)\n"
          ]
        }
      ],
      "source": [
        "print(x_test.shape)"
      ]
    },
    {
      "cell_type": "markdown",
      "id": "b19f0e4f",
      "metadata": {
        "id": "b19f0e4f"
      },
      "source": [
        "# understanding the data"
      ]
    },
    {
      "cell_type": "code",
      "execution_count": null,
      "id": "13d3081b",
      "metadata": {
        "id": "13d3081b",
        "outputId": "814b8dd5-1422-4c14-b8f8-ef2fef5d46cf"
      },
      "outputs": [
        {
          "data": {
            "text/plain": [
              "array([[  0,   0,   0,   0,   0,   0,   0,   0,   0,   0,   0,   0,   0,\n",
              "          0,   0,   0,   0,   0,   0,   0,   0,   0,   0,   0,   0,   0,\n",
              "          0,   0],\n",
              "       [  0,   0,   0,   0,   0,   0,   0,   0,   0,   0,   0,   0,   0,\n",
              "          0,   0,   0,   0,   0,   0,   0,   0,   0,   0,   0,   0,   0,\n",
              "          0,   0],\n",
              "       [  0,   0,   0,   0,   0,   0,   0,   0,   0,   0,   0,   0,   0,\n",
              "          0,   0,   0,   0,   0,   0,   0,   0,   0,   0,   0,   0,   0,\n",
              "          0,   0],\n",
              "       [  0,   0,   0,   0,   0,   0,   0,   0,   0,   0,   0,   0,   0,\n",
              "          0,   0,   0,   0,   0,   0,   0,   0,   0,   0,   0,   0,   0,\n",
              "          0,   0],\n",
              "       [  0,   0,   0,   0,   0,   0,   0,   0,   0,   0,   0,   0,   0,\n",
              "          0,   0,   0,   0,   0,   0,   0,   0,   0,   0,   0,   0,   0,\n",
              "          0,   0],\n",
              "       [  0,   0,   0,   0,   0,   0,   0,   0,   0,   0,   0,   0,   3,\n",
              "         18,  18,  18, 126, 136, 175,  26, 166, 255, 247, 127,   0,   0,\n",
              "          0,   0],\n",
              "       [  0,   0,   0,   0,   0,   0,   0,   0,  30,  36,  94, 154, 170,\n",
              "        253, 253, 253, 253, 253, 225, 172, 253, 242, 195,  64,   0,   0,\n",
              "          0,   0],\n",
              "       [  0,   0,   0,   0,   0,   0,   0,  49, 238, 253, 253, 253, 253,\n",
              "        253, 253, 253, 253, 251,  93,  82,  82,  56,  39,   0,   0,   0,\n",
              "          0,   0],\n",
              "       [  0,   0,   0,   0,   0,   0,   0,  18, 219, 253, 253, 253, 253,\n",
              "        253, 198, 182, 247, 241,   0,   0,   0,   0,   0,   0,   0,   0,\n",
              "          0,   0],\n",
              "       [  0,   0,   0,   0,   0,   0,   0,   0,  80, 156, 107, 253, 253,\n",
              "        205,  11,   0,  43, 154,   0,   0,   0,   0,   0,   0,   0,   0,\n",
              "          0,   0],\n",
              "       [  0,   0,   0,   0,   0,   0,   0,   0,   0,  14,   1, 154, 253,\n",
              "         90,   0,   0,   0,   0,   0,   0,   0,   0,   0,   0,   0,   0,\n",
              "          0,   0],\n",
              "       [  0,   0,   0,   0,   0,   0,   0,   0,   0,   0,   0, 139, 253,\n",
              "        190,   2,   0,   0,   0,   0,   0,   0,   0,   0,   0,   0,   0,\n",
              "          0,   0],\n",
              "       [  0,   0,   0,   0,   0,   0,   0,   0,   0,   0,   0,  11, 190,\n",
              "        253,  70,   0,   0,   0,   0,   0,   0,   0,   0,   0,   0,   0,\n",
              "          0,   0],\n",
              "       [  0,   0,   0,   0,   0,   0,   0,   0,   0,   0,   0,   0,  35,\n",
              "        241, 225, 160, 108,   1,   0,   0,   0,   0,   0,   0,   0,   0,\n",
              "          0,   0],\n",
              "       [  0,   0,   0,   0,   0,   0,   0,   0,   0,   0,   0,   0,   0,\n",
              "         81, 240, 253, 253, 119,  25,   0,   0,   0,   0,   0,   0,   0,\n",
              "          0,   0],\n",
              "       [  0,   0,   0,   0,   0,   0,   0,   0,   0,   0,   0,   0,   0,\n",
              "          0,  45, 186, 253, 253, 150,  27,   0,   0,   0,   0,   0,   0,\n",
              "          0,   0],\n",
              "       [  0,   0,   0,   0,   0,   0,   0,   0,   0,   0,   0,   0,   0,\n",
              "          0,   0,  16,  93, 252, 253, 187,   0,   0,   0,   0,   0,   0,\n",
              "          0,   0],\n",
              "       [  0,   0,   0,   0,   0,   0,   0,   0,   0,   0,   0,   0,   0,\n",
              "          0,   0,   0,   0, 249, 253, 249,  64,   0,   0,   0,   0,   0,\n",
              "          0,   0],\n",
              "       [  0,   0,   0,   0,   0,   0,   0,   0,   0,   0,   0,   0,   0,\n",
              "          0,  46, 130, 183, 253, 253, 207,   2,   0,   0,   0,   0,   0,\n",
              "          0,   0],\n",
              "       [  0,   0,   0,   0,   0,   0,   0,   0,   0,   0,   0,   0,  39,\n",
              "        148, 229, 253, 253, 253, 250, 182,   0,   0,   0,   0,   0,   0,\n",
              "          0,   0],\n",
              "       [  0,   0,   0,   0,   0,   0,   0,   0,   0,   0,  24, 114, 221,\n",
              "        253, 253, 253, 253, 201,  78,   0,   0,   0,   0,   0,   0,   0,\n",
              "          0,   0],\n",
              "       [  0,   0,   0,   0,   0,   0,   0,   0,  23,  66, 213, 253, 253,\n",
              "        253, 253, 198,  81,   2,   0,   0,   0,   0,   0,   0,   0,   0,\n",
              "          0,   0],\n",
              "       [  0,   0,   0,   0,   0,   0,  18, 171, 219, 253, 253, 253, 253,\n",
              "        195,  80,   9,   0,   0,   0,   0,   0,   0,   0,   0,   0,   0,\n",
              "          0,   0],\n",
              "       [  0,   0,   0,   0,  55, 172, 226, 253, 253, 253, 253, 244, 133,\n",
              "         11,   0,   0,   0,   0,   0,   0,   0,   0,   0,   0,   0,   0,\n",
              "          0,   0],\n",
              "       [  0,   0,   0,   0, 136, 253, 253, 253, 212, 135, 132,  16,   0,\n",
              "          0,   0,   0,   0,   0,   0,   0,   0,   0,   0,   0,   0,   0,\n",
              "          0,   0],\n",
              "       [  0,   0,   0,   0,   0,   0,   0,   0,   0,   0,   0,   0,   0,\n",
              "          0,   0,   0,   0,   0,   0,   0,   0,   0,   0,   0,   0,   0,\n",
              "          0,   0],\n",
              "       [  0,   0,   0,   0,   0,   0,   0,   0,   0,   0,   0,   0,   0,\n",
              "          0,   0,   0,   0,   0,   0,   0,   0,   0,   0,   0,   0,   0,\n",
              "          0,   0],\n",
              "       [  0,   0,   0,   0,   0,   0,   0,   0,   0,   0,   0,   0,   0,\n",
              "          0,   0,   0,   0,   0,   0,   0,   0,   0,   0,   0,   0,   0,\n",
              "          0,   0]], dtype=uint8)"
            ]
          },
          "execution_count": 15,
          "metadata": {},
          "output_type": "execute_result"
        }
      ],
      "source": [
        "x_train[0]"
      ]
    },
    {
      "cell_type": "code",
      "execution_count": null,
      "id": "09bc6033",
      "metadata": {
        "id": "09bc6033",
        "outputId": "10b628cd-8f73-41ee-8a12-53a3aca24e30"
      },
      "outputs": [
        {
          "data": {
            "text/plain": [
              "5"
            ]
          },
          "execution_count": 16,
          "metadata": {},
          "output_type": "execute_result"
        }
      ],
      "source": [
        "y_train[0]"
      ]
    },
    {
      "cell_type": "code",
      "execution_count": null,
      "id": "38e29418",
      "metadata": {
        "id": "38e29418"
      },
      "outputs": [],
      "source": [
        "import matplotlib.pyplot as plt"
      ]
    },
    {
      "cell_type": "code",
      "execution_count": null,
      "id": "632c7776",
      "metadata": {
        "id": "632c7776",
        "outputId": "8c0caf63-04cc-4f7d-9672-f70ca3c30598"
      },
      "outputs": [
        {
          "data": {
            "text/plain": [
              "<matplotlib.image.AxesImage at 0x1d42ce9d310>"
            ]
          },
          "execution_count": 18,
          "metadata": {},
          "output_type": "execute_result"
        },
        {
          "data": {
            "image/png": "[encoded data removed]",
            "text/plain": [
              "<Figure size 432x288 with 1 Axes>"
            ]
          },
          "metadata": {
            "needs_background": "light"
          },
          "output_type": "display_data"
        }
      ],
      "source": [
        "plt.imshow(x_train[0])"
      ]
    },
    {
      "cell_type": "markdown",
      "id": "453aaa83",
      "metadata": {
        "id": "453aaa83"
      },
      "source": [
        "# Reshaping Dataset"
      ]
    },
    {
      "cell_type": "code",
      "execution_count": null,
      "id": "be00b7c2",
      "metadata": {
        "id": "be00b7c2"
      },
      "outputs": [],
      "source": [
        "x_train=x_train.reshape(60000,28,28,1).astype('float32')"
      ]
    },
    {
      "cell_type": "code",
      "execution_count": null,
      "id": "7e138f11",
      "metadata": {
        "id": "7e138f11"
      },
      "outputs": [],
      "source": [
        "x_test=x_test.reshape(10000,28,28,1).astype('float32')"
      ]
    },
    {
      "cell_type": "markdown",
      "id": "1eca185c",
      "metadata": {
        "id": "1eca185c"
      },
      "source": [
        "# Applying One Hot Encoding"
      ]
    },
    {
      "cell_type": "code",
      "execution_count": null,
      "id": "f8fc13d6",
      "metadata": {
        "id": "f8fc13d6"
      },
      "outputs": [],
      "source": [
        "number_of_classes = 10"
      ]
    },
    {
      "cell_type": "code",
      "execution_count": null,
      "id": "aa2019d0",
      "metadata": {
        "id": "aa2019d0"
      },
      "outputs": [],
      "source": [
        "y_train = np_utils.to_categorical(y_train, number_of_classes)"
      ]
    },
    {
      "cell_type": "code",
      "execution_count": null,
      "id": "53d56dc6",
      "metadata": {
        "id": "53d56dc6"
      },
      "outputs": [],
      "source": [
        "y_test = np_utils.to_categorical(y_test, number_of_classes)"
      ]
    },
    {
      "cell_type": "code",
      "execution_count": null,
      "id": "653b6c1b",
      "metadata": {
        "id": "653b6c1b",
        "outputId": "dd561535-e378-4212-f460-f81b7fe5d5f4"
      },
      "outputs": [
        {
          "data": {
            "text/plain": [
              "array([0., 0., 0., 0., 0., 1., 0., 0., 0., 0.], dtype=float32)"
            ]
          },
          "execution_count": 25,
          "metadata": {},
          "output_type": "execute_result"
        }
      ],
      "source": [
        "y_train[0]"
      ]
    },
    {
      "cell_type": "markdown",
      "id": "98efb913",
      "metadata": {
        "id": "98efb913"
      },
      "source": [
        "# create the model"
      ]
    },
    {
      "cell_type": "code",
      "execution_count": null,
      "id": "b925ad71",
      "metadata": {
        "id": "b925ad71"
      },
      "outputs": [],
      "source": [
        "model=Sequential()\n"
      ]
    },
    {
      "cell_type": "code",
      "execution_count": null,
      "id": "ddadde41",
      "metadata": {
        "id": "ddadde41"
      },
      "outputs": [],
      "source": [
        "model.add(Conv2D(64,(3,3),input_shape=(28,28,1),activation=\"relu\"))"
      ]
    },
    {
      "cell_type": "code",
      "execution_count": null,
      "id": "3af574ce",
      "metadata": {
        "id": "3af574ce"
      },
      "outputs": [],
      "source": [
        "model.add(Conv2D(32,(3,3),activation='relu'))"
      ]
    },
    {
      "cell_type": "code",
      "execution_count": null,
      "id": "c39e38e5",
      "metadata": {
        "id": "c39e38e5"
      },
      "outputs": [],
      "source": [
        "model.add(Flatten())"
      ]
    },
    {
      "cell_type": "code",
      "execution_count": null,
      "id": "5be1a400",
      "metadata": {
        "id": "5be1a400"
      },
      "outputs": [],
      "source": [
        "model.add(Dense(number_of_classes,activation=\"softmax\"))"
      ]
    },
    {
      "cell_type": "markdown",
      "id": "8a8d4188",
      "metadata": {
        "id": "8a8d4188"
      },
      "source": [
        "# Compiling the model\n"
      ]
    },
    {
      "cell_type": "code",
      "execution_count": null,
      "id": "dc8e84fc",
      "metadata": {
        "id": "dc8e84fc"
      },
      "outputs": [],
      "source": [
        "model.compile(loss='categorical_crossentropy',optimizer=\"Adam\",metrics=['accuracy'])"
      ]
    },
    {
      "cell_type": "markdown",
      "id": "9a1f3f81",
      "metadata": {
        "id": "9a1f3f81"
      },
      "source": [
        "# Train The Model(fitting the model)"
      ]
    },
    {
      "cell_type": "code",
      "execution_count": null,
      "id": "ba3b6b5b",
      "metadata": {
        "id": "ba3b6b5b",
        "outputId": "50d20412-bb77-4663-b788-3721c9cd4654"
      },
      "outputs": [
        {
          "name": "stdout",
          "output_type": "stream",
          "text": [
            "Epoch 1/5\n",
            "1875/1875 [==============================] - 169s 89ms/step - loss: 0.2433 - accuracy: 0.9507 - val_loss: 0.0844 - val_accuracy: 0.9752\n",
            "Epoch 2/5\n",
            "1875/1875 [==============================] - 178s 95ms/step - loss: 0.0711 - accuracy: 0.9784 - val_loss: 0.0694 - val_accuracy: 0.9780\n",
            "Epoch 3/5\n",
            "1875/1875 [==============================] - 172s 92ms/step - loss: 0.0472 - accuracy: 0.9849 - val_loss: 0.0947 - val_accuracy: 0.9717\n",
            "Epoch 4/5\n",
            "1875/1875 [==============================] - 148s 79ms/step - loss: 0.0357 - accuracy: 0.9889 - val_loss: 0.0946 - val_accuracy: 0.9767\n",
            "Epoch 5/5\n",
            "1875/1875 [==============================] - 137s 73ms/step - loss: 0.0265 - accuracy: 0.9916 - val_loss: 0.0907 - val_accuracy: 0.9793\n"
          ]
        },
        {
          "data": {
            "text/plain": [
              "<keras.callbacks.History at 0x1d42bfa9c10>"
            ]
          },
          "execution_count": 34,
          "metadata": {},
          "output_type": "execute_result"
        }
      ],
      "source": [
        "model.fit(x_train,y_train,validation_data=(x_test,y_test),epochs=5,batch_size=32)"
      ]
    },
    {
      "cell_type": "markdown",
      "id": "b5e6ba48",
      "metadata": {
        "id": "b5e6ba48"
      },
      "source": [
        "# Observing the metrics"
      ]
    },
    {
      "cell_type": "code",
      "execution_count": null,
      "id": "cf2a48e5",
      "metadata": {
        "id": "cf2a48e5"
      },
      "outputs": [],
      "source": [
        "metrics=model.evaluate(x_test,y_test,verbose=0)"
      ]
    },
    {
      "cell_type": "code",
      "execution_count": null,
      "id": "88955255",
      "metadata": {
        "id": "88955255",
        "outputId": "d6165aff-eedf-4581-bb40-e4bd725eb0cf"
      },
      "outputs": [
        {
          "name": "stdout",
          "output_type": "stream",
          "text": [
            "Mertics(Test loss & Test Accuracy):\n",
            "[0.0906854122877121, 0.9793000221252441]\n"
          ]
        }
      ],
      "source": [
        "print(\"Mertics(Test loss & Test Accuracy):\")\n",
        "print(metrics)"
      ]
    },
    {
      "cell_type": "markdown",
      "id": "54917a52",
      "metadata": {
        "id": "54917a52"
      },
      "source": [
        "# Test the model"
      ]
    },
    {
      "cell_type": "code",
      "execution_count": null,
      "id": "8c0d433b",
      "metadata": {
        "id": "8c0d433b",
        "outputId": "a527bf16-0fad-406d-b364-a8ff94d3296e"
      },
      "outputs": [
        {
          "name": "stdout",
          "output_type": "stream",
          "text": [
            "1/1 [==============================] - 0s 133ms/step\n",
            "[[3.3291047e-11 5.7662695e-15 9.4223129e-10 9.0904834e-10 1.5614370e-14\n",
            "  8.8905153e-13 1.0450645e-15 9.9999976e-01 3.6469122e-10 2.7200767e-07]\n",
            " [4.0964514e-13 6.3254765e-15 1.0000000e+00 1.5642488e-17 2.1001445e-19\n",
            "  1.5238073e-21 4.4754817e-10 9.3430676e-22 1.8966027e-15 1.5074684e-21]\n",
            " [2.9496479e-12 9.9999821e-01 1.6431573e-09 2.8690266e-14 1.7912749e-06\n",
            "  1.7587244e-11 2.3807356e-10 1.7028683e-12 4.6236440e-08 6.8714942e-15]\n",
            " [1.0000000e+00 8.3795583e-19 5.1277899e-10 3.2976219e-14 8.3830283e-15\n",
            "  9.0507532e-12 1.7599081e-08 8.9054182e-13 1.1442398e-12 6.0930827e-14]]\n"
          ]
        }
      ],
      "source": [
        "prediction=model.predict(x_test[:4])\n",
        "print(prediction)"
      ]
    },
    {
      "cell_type": "markdown",
      "id": "006cac41",
      "metadata": {
        "id": "006cac41"
      },
      "source": [
        "# Observing the metrics"
      ]
    },
    {
      "cell_type": "code",
      "execution_count": null,
      "id": "19e274a9",
      "metadata": {
        "id": "19e274a9",
        "outputId": "804f0876-6580-49e6-ffc3-2263e4a4bda3"
      },
      "outputs": [
        {
          "name": "stdout",
          "output_type": "stream",
          "text": [
            "Mertics(Test loss & Test Accuracy):\n",
            "[0.0906854122877121, 0.9793000221252441]\n"
          ]
        }
      ],
      "source": [
        "metrics=model.evaluate(x_test,y_test,verbose=0)\n",
        "print(\"Mertics(Test loss & Test Accuracy):\")\n",
        "print(metrics)"
      ]
    },
    {
      "cell_type": "code",
      "execution_count": null,
      "id": "dfbe7f10",
      "metadata": {
        "id": "dfbe7f10"
      },
      "outputs": [],
      "source": []
    }
  ],
  "metadata": {
    "kernelspec": {
      "display_name": "Python 3 (ipykernel)",
      "language": "python",
      "name": "python3"
    },
    "language_info": {
      "codemirror_mode": {
        "name": "ipython",
        "version": 3
      },
      "file_extension": ".py",
      "mimetype": "text/x-python",
      "name": "python",
      "nbconvert_exporter": "python",
      "pygments_lexer": "ipython3",
      "version": "3.9.12"
    },
    "colab": {
      "provenance": []
    }
  },
  "nbformat": 4,
  "nbformat_minor": 5
}