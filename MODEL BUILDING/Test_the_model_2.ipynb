{
  "cells": [
    {
      "cell_type": "code",
      "source": [
        "TEAM ID: PNT2022TMID06256"
      ],
      "metadata": {
        "id": "mCKg08JZ9eBh"
      },
      "id": "mCKg08JZ9eBh",
      "execution_count": null,
      "outputs": []
    },
    {
      "cell_type": "markdown",
      "source": [],
      "metadata": {
        "id": "I_rS_Luo9dKl"
      },
      "id": "I_rS_Luo9dKl"
    },
    {
      "cell_type": "code",
      "execution_count": null,
      "id": "34cdd13a",
      "metadata": {
        "id": "34cdd13a"
      },
      "outputs": [],
      "source": [
        "import numpy"
      ]
    },
    {
      "cell_type": "code",
      "execution_count": null,
      "id": "09cb5b2b",
      "metadata": {
        "id": "09cb5b2b"
      },
      "outputs": [],
      "source": [
        "import tensorflow"
      ]
    },
    {
      "cell_type": "code",
      "execution_count": null,
      "id": "57972efd",
      "metadata": {
        "id": "57972efd"
      },
      "outputs": [],
      "source": [
        "from tensorflow.keras.datasets import mnist"
      ]
    },
    {
      "cell_type": "code",
      "execution_count": null,
      "id": "af10c897",
      "metadata": {
        "id": "af10c897"
      },
      "outputs": [],
      "source": [
        "from tensorflow.keras.models import Sequential"
      ]
    },
    {
      "cell_type": "code",
      "execution_count": null,
      "id": "872ed451",
      "metadata": {
        "id": "872ed451"
      },
      "outputs": [],
      "source": [
        "from tensorflow.keras import layers"
      ]
    },
    {
      "cell_type": "code",
      "execution_count": null,
      "id": "c6e71836",
      "metadata": {
        "id": "c6e71836"
      },
      "outputs": [],
      "source": [
        "from tensorflow.keras.layers import Dense, Flatten"
      ]
    },
    {
      "cell_type": "code",
      "execution_count": null,
      "id": "5ac34f4f",
      "metadata": {
        "id": "5ac34f4f"
      },
      "outputs": [],
      "source": [
        "from tensorflow.keras.layers import Conv2D"
      ]
    },
    {
      "cell_type": "code",
      "execution_count": null,
      "id": "dac26346",
      "metadata": {
        "id": "dac26346"
      },
      "outputs": [],
      "source": [
        "from keras.optimizers import Adam"
      ]
    },
    {
      "cell_type": "code",
      "execution_count": null,
      "id": "a2fa67bb",
      "metadata": {
        "id": "a2fa67bb"
      },
      "outputs": [],
      "source": [
        "from keras.utils import np_utils"
      ]
    },
    {
      "cell_type": "markdown",
      "id": "140303a9",
      "metadata": {
        "id": "140303a9"
      },
      "source": [
        "# load data"
      ]
    },
    {
      "cell_type": "code",
      "execution_count": null,
      "id": "b8ef0e02",
      "metadata": {
        "id": "b8ef0e02",
        "outputId": "5d56ab7d-56e6-4ff0-c425-9c14e97ff7b7"
      },
      "outputs": [
        {
          "name": "stdout",
          "output_type": "stream",
          "text": [
            "Downloading data from https://storage.googleapis.com/tensorflow/tf-keras-datasets/mnist.npz\n",
            "11490434/11490434 [==============================] - 12s 1us/step\n"
          ]
        }
      ],
      "source": [
        "(x_train,y_train),(x_test,y_test)=mnist.load_data()"
      ]
    },
    {
      "cell_type": "code",
      "execution_count": null,
      "id": "a44a50c1",
      "metadata": {
        "id": "a44a50c1",
        "outputId": "608141d1-ec0b-4e57-907f-b54becf3f866"
      },
      "outputs": [
        {
          "name": "stdout",
          "output_type": "stream",
          "text": [
            "(60000, 28, 28)\n"
          ]
        }
      ],
      "source": [
        "print(x_train.shape)"
      ]
    },
    {
      "cell_type": "code",
      "execution_count": null,
      "id": "faf1a5e6",
      "metadata": {
        "id": "faf1a5e6",
        "outputId": "6b58eaf0-5356-4f5c-96ab-4a077ba9ff29"
      },
      "outputs": [
        {
          "name": "stdout",
          "output_type": "stream",
          "text": [
            "(10000, 28, 28)\n"
          ]
        }
      ],
      "source": [
        "print(x_test.shape)"
      ]
    },
    {
      "cell_type": "markdown",
      "id": "c3a4badb",
      "metadata": {
        "id": "c3a4badb"
      },
      "source": [
        "# understanding the data"
      ]
    },
    {
      "cell_type": "code",
      "execution_count": null,
      "id": "466688ce",
      "metadata": {
        "id": "466688ce",
        "outputId": "b5626d9f-e8a4-4fa2-b4b9-834733b6f9e2"
      },
      "outputs": [
        {
          "data": {
            "text/plain": [
              "array([[  0,   0,   0,   0,   0,   0,   0,   0,   0,   0,   0,   0,   0,\n",
              "          0,   0,   0,   0,   0,   0,   0,   0,   0,   0,   0,   0,   0,\n",
              "          0,   0],\n",
              "       [  0,   0,   0,   0,   0,   0,   0,   0,   0,   0,   0,   0,   0,\n",
              "          0,   0,   0,   0,   0,   0,   0,   0,   0,   0,   0,   0,   0,\n",
              "          0,   0],\n",
              "       [  0,   0,   0,   0,   0,   0,   0,   0,   0,   0,   0,   0,   0,\n",
              "          0,   0,   0,   0,   0,   0,   0,   0,   0,   0,   0,   0,   0,\n",
              "          0,   0],\n",
              "       [  0,   0,   0,   0,   0,   0,   0,   0,   0,   0,   0,   0,   0,\n",
              "          0,   0,   0,   0,   0,   0,   0,   0,   0,   0,   0,   0,   0,\n",
              "          0,   0],\n",
              "       [  0,   0,   0,   0,   0,   0,   0,   0,   0,   0,   0,   0,   0,\n",
              "          0,   0,   0,   0,   0,   0,   0,   0,   0,   0,   0,   0,   0,\n",
              "          0,   0],\n",
              "       [  0,   0,   0,   0,   0,   0,   0,   0,   0,   0,   0,   0,   3,\n",
              "         18,  18,  18, 126, 136, 175,  26, 166, 255, 247, 127,   0,   0,\n",
              "          0,   0],\n",
              "       [  0,   0,   0,   0,   0,   0,   0,   0,  30,  36,  94, 154, 170,\n",
              "        253, 253, 253, 253, 253, 225, 172, 253, 242, 195,  64,   0,   0,\n",
              "          0,   0],\n",
              "       [  0,   0,   0,   0,   0,   0,   0,  49, 238, 253, 253, 253, 253,\n",
              "        253, 253, 253, 253, 251,  93,  82,  82,  56,  39,   0,   0,   0,\n",
              "          0,   0],\n",
              "       [  0,   0,   0,   0,   0,   0,   0,  18, 219, 253, 253, 253, 253,\n",
              "        253, 198, 182, 247, 241,   0,   0,   0,   0,   0,   0,   0,   0,\n",
              "          0,   0],\n",
              "       [  0,   0,   0,   0,   0,   0,   0,   0,  80, 156, 107, 253, 253,\n",
              "        205,  11,   0,  43, 154,   0,   0,   0,   0,   0,   0,   0,   0,\n",
              "          0,   0],\n",
              "       [  0,   0,   0,   0,   0,   0,   0,   0,   0,  14,   1, 154, 253,\n",
              "         90,   0,   0,   0,   0,   0,   0,   0,   0,   0,   0,   0,   0,\n",
              "          0,   0],\n",
              "       [  0,   0,   0,   0,   0,   0,   0,   0,   0,   0,   0, 139, 253,\n",
              "        190,   2,   0,   0,   0,   0,   0,   0,   0,   0,   0,   0,   0,\n",
              "          0,   0],\n",
              "       [  0,   0,   0,   0,   0,   0,   0,   0,   0,   0,   0,  11, 190,\n",
              "        253,  70,   0,   0,   0,   0,   0,   0,   0,   0,   0,   0,   0,\n",
              "          0,   0],\n",
              "       [  0,   0,   0,   0,   0,   0,   0,   0,   0,   0,   0,   0,  35,\n",
              "        241, 225, 160, 108,   1,   0,   0,   0,   0,   0,   0,   0,   0,\n",
              "          0,   0],\n",
              "       [  0,   0,   0,   0,   0,   0,   0,   0,   0,   0,   0,   0,   0,\n",
              "         81, 240, 253, 253, 119,  25,   0,   0,   0,   0,   0,   0,   0,\n",
              "          0,   0],\n",
              "       [  0,   0,   0,   0,   0,   0,   0,   0,   0,   0,   0,   0,   0,\n",
              "          0,  45, 186, 253, 253, 150,  27,   0,   0,   0,   0,   0,   0,\n",
              "          0,   0],\n",
              "       [  0,   0,   0,   0,   0,   0,   0,   0,   0,   0,   0,   0,   0,\n",
              "          0,   0,  16,  93, 252, 253, 187,   0,   0,   0,   0,   0,   0,\n",
              "          0,   0],\n",
              "       [  0,   0,   0,   0,   0,   0,   0,   0,   0,   0,   0,   0,   0,\n",
              "          0,   0,   0,   0, 249, 253, 249,  64,   0,   0,   0,   0,   0,\n",
              "          0,   0],\n",
              "       [  0,   0,   0,   0,   0,   0,   0,   0,   0,   0,   0,   0,   0,\n",
              "          0,  46, 130, 183, 253, 253, 207,   2,   0,   0,   0,   0,   0,\n",
              "          0,   0],\n",
              "       [  0,   0,   0,   0,   0,   0,   0,   0,   0,   0,   0,   0,  39,\n",
              "        148, 229, 253, 253, 253, 250, 182,   0,   0,   0,   0,   0,   0,\n",
              "          0,   0],\n",
              "       [  0,   0,   0,   0,   0,   0,   0,   0,   0,   0,  24, 114, 221,\n",
              "        253, 253, 253, 253, 201,  78,   0,   0,   0,   0,   0,   0,   0,\n",
              "          0,   0],\n",
              "       [  0,   0,   0,   0,   0,   0,   0,   0,  23,  66, 213, 253, 253,\n",
              "        253, 253, 198,  81,   2,   0,   0,   0,   0,   0,   0,   0,   0,\n",
              "          0,   0],\n",
              "       [  0,   0,   0,   0,   0,   0,  18, 171, 219, 253, 253, 253, 253,\n",
              "        195,  80,   9,   0,   0,   0,   0,   0,   0,   0,   0,   0,   0,\n",
              "          0,   0],\n",
              "       [  0,   0,   0,   0,  55, 172, 226, 253, 253, 253, 253, 244, 133,\n",
              "         11,   0,   0,   0,   0,   0,   0,   0,   0,   0,   0,   0,   0,\n",
              "          0,   0],\n",
              "       [  0,   0,   0,   0, 136, 253, 253, 253, 212, 135, 132,  16,   0,\n",
              "          0,   0,   0,   0,   0,   0,   0,   0,   0,   0,   0,   0,   0,\n",
              "          0,   0],\n",
              "       [  0,   0,   0,   0,   0,   0,   0,   0,   0,   0,   0,   0,   0,\n",
              "          0,   0,   0,   0,   0,   0,   0,   0,   0,   0,   0,   0,   0,\n",
              "          0,   0],\n",
              "       [  0,   0,   0,   0,   0,   0,   0,   0,   0,   0,   0,   0,   0,\n",
              "          0,   0,   0,   0,   0,   0,   0,   0,   0,   0,   0,   0,   0,\n",
              "          0,   0],\n",
              "       [  0,   0,   0,   0,   0,   0,   0,   0,   0,   0,   0,   0,   0,\n",
              "          0,   0,   0,   0,   0,   0,   0,   0,   0,   0,   0,   0,   0,\n",
              "          0,   0]], dtype=uint8)"
            ]
          },
          "execution_count": 15,
          "metadata": {},
          "output_type": "execute_result"
        }
      ],
      "source": [
        "x_train[0]"
      ]
    },
    {
      "cell_type": "code",
      "execution_count": null,
      "id": "fa383b13",
      "metadata": {
        "id": "fa383b13",
        "outputId": "8fc2cd4d-9284-4b75-d56c-80db69090373"
      },
      "outputs": [
        {
          "data": {
            "text/plain": [
              "5"
            ]
          },
          "execution_count": 16,
          "metadata": {},
          "output_type": "execute_result"
        }
      ],
      "source": [
        "y_train[0]"
      ]
    },
    {
      "cell_type": "code",
      "execution_count": null,
      "id": "13bdc6db",
      "metadata": {
        "id": "13bdc6db"
      },
      "outputs": [],
      "source": [
        "import matplotlib.pyplot as plt"
      ]
    },
    {
      "cell_type": "code",
      "execution_count": null,
      "id": "e2033b0d",
      "metadata": {
        "id": "e2033b0d",
        "outputId": "e2ad5d7f-b6bb-4c9c-e770-8046cd83359a"
      },
      "outputs": [
        {
          "data": {
            "text/plain": [
              "<matplotlib.image.AxesImage at 0x1d42ce9d310>"
            ]
          },
          "execution_count": 18,
          "metadata": {},
          "output_type": "execute_result"
        },
        {
          "data": {
            "image/png": "[encoded data removed]",
            "text/plain": [
              "<Figure size 432x288 with 1 Axes>"
            ]
          },
          "metadata": {
            "needs_background": "light"
          },
          "output_type": "display_data"
        }
      ],
      "source": [
        "plt.imshow(x_train[0])"
      ]
    },
    {
      "cell_type": "markdown",
      "id": "64ed90ca",
      "metadata": {
        "id": "64ed90ca"
      },
      "source": [
        "# Reshaping Dataset"
      ]
    },
    {
      "cell_type": "code",
      "execution_count": null,
      "id": "924602b4",
      "metadata": {
        "id": "924602b4"
      },
      "outputs": [],
      "source": [
        "x_train=x_train.reshape(60000,28,28,1).astype('float32')"
      ]
    },
    {
      "cell_type": "code",
      "execution_count": null,
      "id": "80295313",
      "metadata": {
        "id": "80295313"
      },
      "outputs": [],
      "source": [
        "x_test=x_test.reshape(10000,28,28,1).astype('float32')"
      ]
    },
    {
      "cell_type": "markdown",
      "id": "c605a3b4",
      "metadata": {
        "id": "c605a3b4"
      },
      "source": [
        "# Applying One Hot Encoding"
      ]
    },
    {
      "cell_type": "code",
      "execution_count": null,
      "id": "03347371",
      "metadata": {
        "id": "03347371"
      },
      "outputs": [],
      "source": [
        "number_of_classes = 10"
      ]
    },
    {
      "cell_type": "code",
      "execution_count": null,
      "id": "525369ab",
      "metadata": {
        "id": "525369ab"
      },
      "outputs": [],
      "source": [
        "y_train = np_utils.to_categorical(y_train, number_of_classes)"
      ]
    },
    {
      "cell_type": "code",
      "execution_count": null,
      "id": "f9f4b606",
      "metadata": {
        "id": "f9f4b606"
      },
      "outputs": [],
      "source": [
        "y_test = np_utils.to_categorical(y_test, number_of_classes)"
      ]
    },
    {
      "cell_type": "code",
      "execution_count": null,
      "id": "7f6d2285",
      "metadata": {
        "id": "7f6d2285",
        "outputId": "54cfc231-e84f-416c-f8f1-241325b5d3a6"
      },
      "outputs": [
        {
          "data": {
            "text/plain": [
              "array([0., 0., 0., 0., 0., 1., 0., 0., 0., 0.], dtype=float32)"
            ]
          },
          "execution_count": 25,
          "metadata": {},
          "output_type": "execute_result"
        }
      ],
      "source": [
        "y_train[0]"
      ]
    },
    {
      "cell_type": "markdown",
      "id": "3127ab8d",
      "metadata": {
        "id": "3127ab8d"
      },
      "source": [
        "# create the model"
      ]
    },
    {
      "cell_type": "code",
      "execution_count": null,
      "id": "a1900280",
      "metadata": {
        "id": "a1900280"
      },
      "outputs": [],
      "source": [
        "model=Sequential()\n"
      ]
    },
    {
      "cell_type": "code",
      "execution_count": null,
      "id": "b20431f5",
      "metadata": {
        "id": "b20431f5"
      },
      "outputs": [],
      "source": [
        "model.add(Conv2D(64,(3,3),input_shape=(28,28,1),activation=\"relu\"))"
      ]
    },
    {
      "cell_type": "code",
      "execution_count": null,
      "id": "fc45ad07",
      "metadata": {
        "id": "fc45ad07"
      },
      "outputs": [],
      "source": [
        "model.add(Conv2D(32,(3,3),activation='relu'))"
      ]
    },
    {
      "cell_type": "code",
      "execution_count": null,
      "id": "686ec242",
      "metadata": {
        "id": "686ec242"
      },
      "outputs": [],
      "source": [
        "model.add(Flatten())"
      ]
    },
    {
      "cell_type": "code",
      "execution_count": null,
      "id": "c20bdd09",
      "metadata": {
        "id": "c20bdd09"
      },
      "outputs": [],
      "source": [
        "model.add(Dense(number_of_classes,activation=\"softmax\"))"
      ]
    },
    {
      "cell_type": "markdown",
      "id": "2b6ff834",
      "metadata": {
        "id": "2b6ff834"
      },
      "source": [
        "# Compiling the model\n"
      ]
    },
    {
      "cell_type": "code",
      "execution_count": null,
      "id": "dbf7b21a",
      "metadata": {
        "id": "dbf7b21a"
      },
      "outputs": [],
      "source": [
        "model.compile(loss='categorical_crossentropy',optimizer=\"Adam\",metrics=['accuracy'])"
      ]
    },
    {
      "cell_type": "markdown",
      "id": "1175ee57",
      "metadata": {
        "id": "1175ee57"
      },
      "source": [
        "# Train The Model(fitting the model)"
      ]
    },
    {
      "cell_type": "code",
      "execution_count": null,
      "id": "8fbc5886",
      "metadata": {
        "id": "8fbc5886",
        "outputId": "95261473-459c-4c46-99d6-97674a1c4ce4"
      },
      "outputs": [
        {
          "name": "stdout",
          "output_type": "stream",
          "text": [
            "Epoch 1/5\n",
            "1875/1875 [==============================] - 169s 89ms/step - loss: 0.2433 - accuracy: 0.9507 - val_loss: 0.0844 - val_accuracy: 0.9752\n",
            "Epoch 2/5\n",
            "1875/1875 [==============================] - 178s 95ms/step - loss: 0.0711 - accuracy: 0.9784 - val_loss: 0.0694 - val_accuracy: 0.9780\n",
            "Epoch 3/5\n",
            "1875/1875 [==============================] - 172s 92ms/step - loss: 0.0472 - accuracy: 0.9849 - val_loss: 0.0947 - val_accuracy: 0.9717\n",
            "Epoch 4/5\n",
            "1875/1875 [==============================] - 148s 79ms/step - loss: 0.0357 - accuracy: 0.9889 - val_loss: 0.0946 - val_accuracy: 0.9767\n",
            "Epoch 5/5\n",
            "1875/1875 [==============================] - 137s 73ms/step - loss: 0.0265 - accuracy: 0.9916 - val_loss: 0.0907 - val_accuracy: 0.9793\n"
          ]
        },
        {
          "data": {
            "text/plain": [
              "<keras.callbacks.History at 0x1d42bfa9c10>"
            ]
          },
          "execution_count": 34,
          "metadata": {},
          "output_type": "execute_result"
        }
      ],
      "source": [
        "model.fit(x_train,y_train,validation_data=(x_test,y_test),epochs=5,batch_size=32)"
      ]
    },
    {
      "cell_type": "markdown",
      "id": "b2cb3ee3",
      "metadata": {
        "id": "b2cb3ee3"
      },
      "source": [
        "# Observing the metrics"
      ]
    },
    {
      "cell_type": "code",
      "execution_count": null,
      "id": "f7be7e29",
      "metadata": {
        "id": "f7be7e29"
      },
      "outputs": [],
      "source": [
        "metrics=model.evaluate(x_test,y_test,verbose=0)"
      ]
    },
    {
      "cell_type": "code",
      "execution_count": null,
      "id": "c75e9fd2",
      "metadata": {
        "id": "c75e9fd2",
        "outputId": "1f49da51-6ee9-4199-ac4b-52c05c8a0603"
      },
      "outputs": [
        {
          "name": "stdout",
          "output_type": "stream",
          "text": [
            "Mertics(Test loss & Test Accuracy):\n",
            "[0.0906854122877121, 0.9793000221252441]\n"
          ]
        }
      ],
      "source": [
        "print(\"Mertics(Test loss & Test Accuracy):\")\n",
        "print(metrics)"
      ]
    },
    {
      "cell_type": "markdown",
      "id": "d40a36f2",
      "metadata": {
        "id": "d40a36f2"
      },
      "source": [
        "# Test the model"
      ]
    },
    {
      "cell_type": "code",
      "execution_count": null,
      "id": "34231c1e",
      "metadata": {
        "id": "34231c1e",
        "outputId": "8242f0c6-26b3-45a7-df9a-12eec1dcfad9"
      },
      "outputs": [
        {
          "name": "stdout",
          "output_type": "stream",
          "text": [
            "1/1 [==============================] - 0s 133ms/step\n",
            "[[3.3291047e-11 5.7662695e-15 9.4223129e-10 9.0904834e-10 1.5614370e-14\n",
            "  8.8905153e-13 1.0450645e-15 9.9999976e-01 3.6469122e-10 2.7200767e-07]\n",
            " [4.0964514e-13 6.3254765e-15 1.0000000e+00 1.5642488e-17 2.1001445e-19\n",
            "  1.5238073e-21 4.4754817e-10 9.3430676e-22 1.8966027e-15 1.5074684e-21]\n",
            " [2.9496479e-12 9.9999821e-01 1.6431573e-09 2.8690266e-14 1.7912749e-06\n",
            "  1.7587244e-11 2.3807356e-10 1.7028683e-12 4.6236440e-08 6.8714942e-15]\n",
            " [1.0000000e+00 8.3795583e-19 5.1277899e-10 3.2976219e-14 8.3830283e-15\n",
            "  9.0507532e-12 1.7599081e-08 8.9054182e-13 1.1442398e-12 6.0930827e-14]]\n"
          ]
        }
      ],
      "source": [
        "prediction=model.predict(x_test[:4])\n",
        "print(prediction)"
      ]
    },
    {
      "cell_type": "markdown",
      "id": "1c4ae021",
      "metadata": {
        "id": "1c4ae021"
      },
      "source": [
        "# Observing the metrics"
      ]
    },
    {
      "cell_type": "code",
      "execution_count": null,
      "id": "08e03261",
      "metadata": {
        "id": "08e03261",
        "outputId": "5922a9bb-55f2-4d2e-a01b-213a9e519b52"
      },
      "outputs": [
        {
          "name": "stdout",
          "output_type": "stream",
          "text": [
            "Mertics(Test loss & Test Accuracy):\n",
            "[0.0906854122877121, 0.9793000221252441]\n"
          ]
        }
      ],
      "source": [
        "metrics=model.evaluate(x_test,y_test,verbose=0)\n",
        "print(\"Mertics(Test loss & Test Accuracy):\")\n",
        "print(metrics)"
      ]
    },
    {
      "cell_type": "markdown",
      "id": "e47bfa40",
      "metadata": {
        "id": "e47bfa40"
      },
      "source": [
        "# Test the model"
      ]
    },
    {
      "cell_type": "code",
      "execution_count": null,
      "id": "f22eec9b",
      "metadata": {
        "id": "f22eec9b",
        "outputId": "a5b929f3-2b43-4548-bb0e-1c654990ea68"
      },
      "outputs": [
        {
          "name": "stdout",
          "output_type": "stream",
          "text": [
            "1/1 [==============================] - 0s 27ms/step\n",
            "[[3.3291047e-11 5.7662695e-15 9.4223129e-10 9.0904834e-10 1.5614370e-14\n",
            "  8.8905153e-13 1.0450645e-15 9.9999976e-01 3.6469122e-10 2.7200767e-07]\n",
            " [4.0964514e-13 6.3254765e-15 1.0000000e+00 1.5642488e-17 2.1001445e-19\n",
            "  1.5238073e-21 4.4754817e-10 9.3430676e-22 1.8966027e-15 1.5074684e-21]\n",
            " [2.9496479e-12 9.9999821e-01 1.6431573e-09 2.8690266e-14 1.7912749e-06\n",
            "  1.7587244e-11 2.3807356e-10 1.7028683e-12 4.6236440e-08 6.8714942e-15]\n",
            " [1.0000000e+00 8.3795583e-19 5.1277899e-10 3.2976219e-14 8.3830283e-15\n",
            "  9.0507532e-12 1.7599081e-08 8.9054182e-13 1.1442398e-12 6.0930827e-14]]\n"
          ]
        }
      ],
      "source": [
        "prediction=model.predict(x_test[:4])\n",
        "print(prediction)"
      ]
    },
    {
      "cell_type": "code",
      "execution_count": null,
      "id": "5d460208",
      "metadata": {
        "id": "5d460208"
      },
      "outputs": [],
      "source": []
    }
  ],
  "metadata": {
    "kernelspec": {
      "display_name": "Python 3 (ipykernel)",
      "language": "python",
      "name": "python3"
    },
    "language_info": {
      "codemirror_mode": {
        "name": "ipython",
        "version": 3
      },
      "file_extension": ".py",
      "mimetype": "text/x-python",
      "name": "python",
      "nbconvert_exporter": "python",
      "pygments_lexer": "ipython3",
      "version": "3.9.12"
    },
    "colab": {
      "provenance": [],
      "collapsed_sections": []
    }
  },
  "nbformat": 4,
  "nbformat_minor": 5
}